{
  "nbformat": 4,
  "nbformat_minor": 0,
  "metadata": {
    "colab": {
      "name": "Automobile.ipynb",
      "provenance": [],
      "collapsed_sections": [],
      "include_colab_link": true
    },
    "kernelspec": {
      "name": "python3",
      "display_name": "Python 3"
    }
  },
  "cells": [
    {
      "cell_type": "markdown",
      "metadata": {
        "id": "view-in-github",
        "colab_type": "text"
      },
      "source": [
        "<a href=\"https://colab.research.google.com/github/shashiranjan55/Automobile/blob/master/Automobile.ipynb\" target=\"_parent\"><img src=\"https://colab.research.google.com/assets/colab-badge.svg\" alt=\"Open In Colab\"/></a>"
      ]
    },
    {
      "cell_type": "markdown",
      "metadata": {
        "id": "5sKlzgOPa70L",
        "colab_type": "text"
      },
      "source": [
        "#Group 1\n",
        "#Shashi Ranjan Mandal\n",
        "#Yashraj Varma\n",
        "#Ishita Gupta\n",
        "#Vignesh R\n",
        "#Parikshit Powani\n",
        "#Gaurav\n",
        "\n",
        "#Data\n",
        "#We have worked on the Automobile dataset. This data set consists of three types of entities: (a) the specification of an auto in terms of various characteristics, (b) its assigned insurance risk rating, (c) its normalized losses in use as compared to other cars. The second rating corresponds to the degree to which the auto is more risky than its price indicates. Cars are initially assigned a risk factor symbol associated with its price. Then, if it is more risky (or less), this symbol is adjusted by moving it up (or down) the scale. Actuarians call this process \"symboling\". A value of +3 indicates that the auto is risky, -3 that it is probably pretty safe.\n",
        "#The third factor is the relative average loss payment per insured vehicle year. This value is normalized for all autos within a particular size classification (two-door small, station wagons, sports/speciality, etc…), and represents the average loss per car per year.\n",
        "\n",
        "#Business Problem\n",
        "#The problem that we are trying to address is to predict whether a car is of premium type or non-premium type based on the features given. \n",
        "#Solution\n",
        "#To solve the problem, we have gone about doing the following steps:\n",
        "#•\tThe body_style column had the following entries- convertible,hardtop,sedan,wagon,hatchback.\n",
        "#•\tconvertible and hardtop were categorised into “Premium”\n",
        "#•\tsedan, wagon and hatchback were categorised into “Non-Premium”\n",
        "#The column was then dummy coded. We also ran the scaler function to scale the data. The data was split into train and test data with 75% of the data being used to train the model.\n",
        "#Logistic Regression was run on the data and we got a model accuracy score of 90%. We tried to further better the model accuracy by running XgBoost on the data. The new model returned an accuracy score of 92%."
      ]
    },
    {
      "cell_type": "markdown",
      "metadata": {
        "id": "StLgbUeTa_s-",
        "colab_type": "text"
      },
      "source": [
        "## Importing Necessary Libraries "
      ]
    },
    {
      "cell_type": "code",
      "metadata": {
        "id": "_ltiZQ0u4iwW",
        "colab_type": "code",
        "colab": {
          "base_uri": "https://localhost:8080/",
          "height": 71
        },
        "outputId": "f9decc08-1477-49a8-f764-5e048008f9a6"
      },
      "source": [
        "import pandas as pd\n",
        "import numpy as np\n",
        "import seaborn as sns\n",
        "import matplotlib.pyplot as plt\n",
        "from sklearn.model_selection import train_test_split\n",
        "from sklearn.linear_model import LogisticRegression"
      ],
      "execution_count": 2,
      "outputs": [
        {
          "output_type": "stream",
          "text": [
            "/usr/local/lib/python3.6/dist-packages/statsmodels/tools/_testing.py:19: FutureWarning: pandas.util.testing is deprecated. Use the functions in the public API at pandas.testing instead.\n",
            "  import pandas.util.testing as tm\n"
          ],
          "name": "stderr"
        }
      ]
    },
    {
      "cell_type": "markdown",
      "metadata": {
        "id": "Yki9tdrKbzWL",
        "colab_type": "text"
      },
      "source": [
        "##Uploading Dataset"
      ]
    },
    {
      "cell_type": "code",
      "metadata": {
        "id": "dh1ZKizt5PIf",
        "colab_type": "code",
        "colab": {
          "resources": {
            "http://localhost:8080/nbextensions/google.colab/files.js": {
              "data": "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",
              "ok": true,
              "headers": [
                [
                  "content-type",
                  "application/javascript"
                ]
              ],
              "status": 200,
              "status_text": ""
            }
          },
          "base_uri": "https://localhost:8080/",
          "height": 89
        },
        "outputId": "56076947-31cd-4c77-d2d6-9cbc3daaead9"
      },
      "source": [
        "from google.colab import files\n",
        "\n",
        "uploaded = files.upload()\n",
        "\n",
        "for fn in uploaded.keys():\n",
        "  print('User uploaded file \"{name}\" with length {length} bytes'.format(\n",
        "      name=fn, length=len(uploaded[fn])))"
      ],
      "execution_count": 3,
      "outputs": [
        {
          "output_type": "display_data",
          "data": {
            "text/html": [
              "\n",
              "     <input type=\"file\" id=\"files-49cc5fcd-8af7-4d98-b40d-25deb877f89f\" name=\"files[]\" multiple disabled\n",
              "        style=\"border:none\" />\n",
              "     <output id=\"result-49cc5fcd-8af7-4d98-b40d-25deb877f89f\">\n",
              "      Upload widget is only available when the cell has been executed in the\n",
              "      current browser session. Please rerun this cell to enable.\n",
              "      </output>\n",
              "      <script src=\"/nbextensions/google.colab/files.js\"></script> "
            ],
            "text/plain": [
              "<IPython.core.display.HTML object>"
            ]
          },
          "metadata": {
            "tags": []
          }
        },
        {
          "output_type": "stream",
          "text": [
            "Saving Automobile.csv to Automobile.csv\n",
            "User uploaded file \"Automobile.csv\" with length 24729 bytes\n"
          ],
          "name": "stdout"
        }
      ]
    },
    {
      "cell_type": "markdown",
      "metadata": {
        "id": "cq1Odr8TcBW_",
        "colab_type": "text"
      },
      "source": [
        "## Reading the dataset using pandas"
      ]
    },
    {
      "cell_type": "code",
      "metadata": {
        "id": "hXt_dp_o5XfK",
        "colab_type": "code",
        "colab": {}
      },
      "source": [
        "df=pd.read_csv(\"Automobile.csv\")"
      ],
      "execution_count": 4,
      "outputs": []
    },
    {
      "cell_type": "markdown",
      "metadata": {
        "id": "rlyUjGmjZr3d",
        "colab_type": "text"
      },
      "source": [
        "## Checking the first five rows of the dataset for understanding variables present"
      ]
    },
    {
      "cell_type": "code",
      "metadata": {
        "id": "GyTmlG4R5dI_",
        "colab_type": "code",
        "colab": {
          "base_uri": "https://localhost:8080/",
          "height": 275
        },
        "outputId": "ec11c348-f665-42b3-abf4-10a93f9765b1"
      },
      "source": [
        "df.head()"
      ],
      "execution_count": 5,
      "outputs": [
        {
          "output_type": "execute_result",
          "data": {
            "text/html": [
              "<div>\n",
              "<style scoped>\n",
              "    .dataframe tbody tr th:only-of-type {\n",
              "        vertical-align: middle;\n",
              "    }\n",
              "\n",
              "    .dataframe tbody tr th {\n",
              "        vertical-align: top;\n",
              "    }\n",
              "\n",
              "    .dataframe thead th {\n",
              "        text-align: right;\n",
              "    }\n",
              "</style>\n",
              "<table border=\"1\" class=\"dataframe\">\n",
              "  <thead>\n",
              "    <tr style=\"text-align: right;\">\n",
              "      <th></th>\n",
              "      <th>symboling</th>\n",
              "      <th>normalized_losses</th>\n",
              "      <th>make</th>\n",
              "      <th>fuel_type</th>\n",
              "      <th>aspiration</th>\n",
              "      <th>number_of_doors</th>\n",
              "      <th>body_style</th>\n",
              "      <th>drive_wheels</th>\n",
              "      <th>engine_location</th>\n",
              "      <th>wheel_base</th>\n",
              "      <th>length</th>\n",
              "      <th>width</th>\n",
              "      <th>height</th>\n",
              "      <th>curb_weight</th>\n",
              "      <th>engine_type</th>\n",
              "      <th>number_of_cylinders</th>\n",
              "      <th>engine_size</th>\n",
              "      <th>fuel_system</th>\n",
              "      <th>bore</th>\n",
              "      <th>stroke</th>\n",
              "      <th>compression_ratio</th>\n",
              "      <th>horsepower</th>\n",
              "      <th>peak_rpm</th>\n",
              "      <th>city_mpg</th>\n",
              "      <th>highway_mpg</th>\n",
              "      <th>price</th>\n",
              "    </tr>\n",
              "  </thead>\n",
              "  <tbody>\n",
              "    <tr>\n",
              "      <th>0</th>\n",
              "      <td>3</td>\n",
              "      <td>168</td>\n",
              "      <td>alfa-romero</td>\n",
              "      <td>gas</td>\n",
              "      <td>std</td>\n",
              "      <td>two</td>\n",
              "      <td>convertible</td>\n",
              "      <td>rwd</td>\n",
              "      <td>front</td>\n",
              "      <td>88.6</td>\n",
              "      <td>168.8</td>\n",
              "      <td>64.1</td>\n",
              "      <td>48.8</td>\n",
              "      <td>2548</td>\n",
              "      <td>dohc</td>\n",
              "      <td>four</td>\n",
              "      <td>130</td>\n",
              "      <td>mpfi</td>\n",
              "      <td>3.47</td>\n",
              "      <td>2.68</td>\n",
              "      <td>9.0</td>\n",
              "      <td>111</td>\n",
              "      <td>5000</td>\n",
              "      <td>21</td>\n",
              "      <td>27</td>\n",
              "      <td>13495</td>\n",
              "    </tr>\n",
              "    <tr>\n",
              "      <th>1</th>\n",
              "      <td>3</td>\n",
              "      <td>168</td>\n",
              "      <td>alfa-romero</td>\n",
              "      <td>gas</td>\n",
              "      <td>std</td>\n",
              "      <td>two</td>\n",
              "      <td>convertible</td>\n",
              "      <td>rwd</td>\n",
              "      <td>front</td>\n",
              "      <td>88.6</td>\n",
              "      <td>168.8</td>\n",
              "      <td>64.1</td>\n",
              "      <td>48.8</td>\n",
              "      <td>2548</td>\n",
              "      <td>dohc</td>\n",
              "      <td>four</td>\n",
              "      <td>130</td>\n",
              "      <td>mpfi</td>\n",
              "      <td>3.47</td>\n",
              "      <td>2.68</td>\n",
              "      <td>9.0</td>\n",
              "      <td>111</td>\n",
              "      <td>5000</td>\n",
              "      <td>21</td>\n",
              "      <td>27</td>\n",
              "      <td>16500</td>\n",
              "    </tr>\n",
              "    <tr>\n",
              "      <th>2</th>\n",
              "      <td>1</td>\n",
              "      <td>168</td>\n",
              "      <td>alfa-romero</td>\n",
              "      <td>gas</td>\n",
              "      <td>std</td>\n",
              "      <td>two</td>\n",
              "      <td>hatchback</td>\n",
              "      <td>rwd</td>\n",
              "      <td>front</td>\n",
              "      <td>94.5</td>\n",
              "      <td>171.2</td>\n",
              "      <td>65.5</td>\n",
              "      <td>52.4</td>\n",
              "      <td>2823</td>\n",
              "      <td>ohcv</td>\n",
              "      <td>six</td>\n",
              "      <td>152</td>\n",
              "      <td>mpfi</td>\n",
              "      <td>2.68</td>\n",
              "      <td>3.47</td>\n",
              "      <td>9.0</td>\n",
              "      <td>154</td>\n",
              "      <td>5000</td>\n",
              "      <td>19</td>\n",
              "      <td>26</td>\n",
              "      <td>16500</td>\n",
              "    </tr>\n",
              "    <tr>\n",
              "      <th>3</th>\n",
              "      <td>2</td>\n",
              "      <td>164</td>\n",
              "      <td>audi</td>\n",
              "      <td>gas</td>\n",
              "      <td>std</td>\n",
              "      <td>four</td>\n",
              "      <td>sedan</td>\n",
              "      <td>fwd</td>\n",
              "      <td>front</td>\n",
              "      <td>99.8</td>\n",
              "      <td>176.6</td>\n",
              "      <td>66.2</td>\n",
              "      <td>54.3</td>\n",
              "      <td>2337</td>\n",
              "      <td>ohc</td>\n",
              "      <td>four</td>\n",
              "      <td>109</td>\n",
              "      <td>mpfi</td>\n",
              "      <td>3.19</td>\n",
              "      <td>3.40</td>\n",
              "      <td>10.0</td>\n",
              "      <td>102</td>\n",
              "      <td>5500</td>\n",
              "      <td>24</td>\n",
              "      <td>30</td>\n",
              "      <td>13950</td>\n",
              "    </tr>\n",
              "    <tr>\n",
              "      <th>4</th>\n",
              "      <td>2</td>\n",
              "      <td>164</td>\n",
              "      <td>audi</td>\n",
              "      <td>gas</td>\n",
              "      <td>std</td>\n",
              "      <td>four</td>\n",
              "      <td>sedan</td>\n",
              "      <td>4wd</td>\n",
              "      <td>front</td>\n",
              "      <td>99.4</td>\n",
              "      <td>176.6</td>\n",
              "      <td>66.4</td>\n",
              "      <td>54.3</td>\n",
              "      <td>2824</td>\n",
              "      <td>ohc</td>\n",
              "      <td>five</td>\n",
              "      <td>136</td>\n",
              "      <td>mpfi</td>\n",
              "      <td>3.19</td>\n",
              "      <td>3.40</td>\n",
              "      <td>8.0</td>\n",
              "      <td>115</td>\n",
              "      <td>5500</td>\n",
              "      <td>18</td>\n",
              "      <td>22</td>\n",
              "      <td>17450</td>\n",
              "    </tr>\n",
              "  </tbody>\n",
              "</table>\n",
              "</div>"
            ],
            "text/plain": [
              "   symboling  normalized_losses         make  ... city_mpg highway_mpg  price\n",
              "0          3                168  alfa-romero  ...       21          27  13495\n",
              "1          3                168  alfa-romero  ...       21          27  16500\n",
              "2          1                168  alfa-romero  ...       19          26  16500\n",
              "3          2                164         audi  ...       24          30  13950\n",
              "4          2                164         audi  ...       18          22  17450\n",
              "\n",
              "[5 rows x 26 columns]"
            ]
          },
          "metadata": {
            "tags": []
          },
          "execution_count": 5
        }
      ]
    },
    {
      "cell_type": "markdown",
      "metadata": {
        "id": "DVacb4jVaQVT",
        "colab_type": "text"
      },
      "source": [
        "## Checking the presence of null values if any in the given dataset"
      ]
    },
    {
      "cell_type": "code",
      "metadata": {
        "id": "OBnk3y4vZ6Da",
        "colab_type": "code",
        "colab": {
          "base_uri": "https://localhost:8080/",
          "height": 476
        },
        "outputId": "64b1d40f-9890-4e55-d3f0-8683e778a0c6"
      },
      "source": [
        "df.isnull().sum()"
      ],
      "execution_count": 6,
      "outputs": [
        {
          "output_type": "execute_result",
          "data": {
            "text/plain": [
              "symboling              0\n",
              "normalized_losses      0\n",
              "make                   0\n",
              "fuel_type              0\n",
              "aspiration             0\n",
              "number_of_doors        0\n",
              "body_style             0\n",
              "drive_wheels           0\n",
              "engine_location        0\n",
              "wheel_base             0\n",
              "length                 0\n",
              "width                  0\n",
              "height                 0\n",
              "curb_weight            0\n",
              "engine_type            0\n",
              "number_of_cylinders    0\n",
              "engine_size            0\n",
              "fuel_system            0\n",
              "bore                   0\n",
              "stroke                 0\n",
              "compression_ratio      0\n",
              "horsepower             0\n",
              "peak_rpm               0\n",
              "city_mpg               0\n",
              "highway_mpg            0\n",
              "price                  0\n",
              "dtype: int64"
            ]
          },
          "metadata": {
            "tags": []
          },
          "execution_count": 6
        }
      ]
    },
    {
      "cell_type": "markdown",
      "metadata": {
        "id": "Hd1uiaDRaYRT",
        "colab_type": "text"
      },
      "source": [
        "#Exploratory Data Analysis (EDA)"
      ]
    },
    {
      "cell_type": "code",
      "metadata": {
        "id": "uiPWTGFG5eoP",
        "colab_type": "code",
        "colab": {
          "base_uri": "https://localhost:8080/",
          "height": 296
        },
        "outputId": "3dd39074-12a4-4217-ab0b-cd214e9a6c5c"
      },
      "source": [
        "sns.barplot(df['horsepower'],df['body_style'])"
      ],
      "execution_count": null,
      "outputs": [
        {
          "output_type": "execute_result",
          "data": {
            "text/plain": [
              "<matplotlib.axes._subplots.AxesSubplot at 0x7f3be0b64470>"
            ]
          },
          "metadata": {
            "tags": []
          },
          "execution_count": 6
        },
        {
          "output_type": "display_data",
          "data": {
            "image/png": "[encoded data removed]",
            "text/plain": [
              "<Figure size 432x288 with 1 Axes>"
            ]
          },
          "metadata": {
            "tags": [],
            "needs_background": "light"
          }
        }
      ]
    },
    {
      "cell_type": "markdown",
      "metadata": {
        "id": "k-aNon2dah_q",
        "colab_type": "text"
      },
      "source": [
        "## Checking the correlation among the variables "
      ]
    },
    {
      "cell_type": "code",
      "metadata": {
        "id": "PN9bvpUM6zB_",
        "colab_type": "code",
        "colab": {
          "base_uri": "https://localhost:8080/",
          "height": 565
        },
        "outputId": "c0b57922-4e3d-42a0-e1d0-64ef336c2815"
      },
      "source": [
        "df.corr()"
      ],
      "execution_count": null,
      "outputs": [
        {
          "output_type": "execute_result",
          "data": {
            "text/html": [
              "<div>\n",
              "<style scoped>\n",
              "    .dataframe tbody tr th:only-of-type {\n",
              "        vertical-align: middle;\n",
              "    }\n",
              "\n",
              "    .dataframe tbody tr th {\n",
              "        vertical-align: top;\n",
              "    }\n",
              "\n",
              "    .dataframe thead th {\n",
              "        text-align: right;\n",
              "    }\n",
              "</style>\n",
              "<table border=\"1\" class=\"dataframe\">\n",
              "  <thead>\n",
              "    <tr style=\"text-align: right;\">\n",
              "      <th></th>\n",
              "      <th>symboling</th>\n",
              "      <th>normalized_losses</th>\n",
              "      <th>wheel_base</th>\n",
              "      <th>length</th>\n",
              "      <th>width</th>\n",
              "      <th>height</th>\n",
              "      <th>curb_weight</th>\n",
              "      <th>engine_size</th>\n",
              "      <th>bore</th>\n",
              "      <th>stroke</th>\n",
              "      <th>compression_ratio</th>\n",
              "      <th>horsepower</th>\n",
              "      <th>peak_rpm</th>\n",
              "      <th>city_mpg</th>\n",
              "      <th>highway_mpg</th>\n",
              "      <th>price</th>\n",
              "    </tr>\n",
              "  </thead>\n",
              "  <tbody>\n",
              "    <tr>\n",
              "      <th>symboling</th>\n",
              "      <td>1.000000</td>\n",
              "      <td>0.474993</td>\n",
              "      <td>-0.535987</td>\n",
              "      <td>-0.365404</td>\n",
              "      <td>-0.242423</td>\n",
              "      <td>-0.550160</td>\n",
              "      <td>-0.233118</td>\n",
              "      <td>-0.110581</td>\n",
              "      <td>-0.146355</td>\n",
              "      <td>0.018373</td>\n",
              "      <td>-0.182196</td>\n",
              "      <td>0.075287</td>\n",
              "      <td>0.279849</td>\n",
              "      <td>-0.035527</td>\n",
              "      <td>0.036233</td>\n",
              "      <td>-0.082391</td>\n",
              "    </tr>\n",
              "    <tr>\n",
              "      <th>normalized_losses</th>\n",
              "      <td>0.474993</td>\n",
              "      <td>1.000000</td>\n",
              "      <td>0.007815</td>\n",
              "      <td>0.103659</td>\n",
              "      <td>0.153752</td>\n",
              "      <td>-0.335476</td>\n",
              "      <td>0.178547</td>\n",
              "      <td>0.174788</td>\n",
              "      <td>0.007498</td>\n",
              "      <td>0.062666</td>\n",
              "      <td>-0.120846</td>\n",
              "      <td>0.276665</td>\n",
              "      <td>0.211812</td>\n",
              "      <td>-0.301206</td>\n",
              "      <td>-0.264594</td>\n",
              "      <td>0.208886</td>\n",
              "    </tr>\n",
              "    <tr>\n",
              "      <th>wheel_base</th>\n",
              "      <td>-0.535987</td>\n",
              "      <td>0.007815</td>\n",
              "      <td>1.000000</td>\n",
              "      <td>0.876024</td>\n",
              "      <td>0.814507</td>\n",
              "      <td>0.590742</td>\n",
              "      <td>0.782097</td>\n",
              "      <td>0.572027</td>\n",
              "      <td>0.495210</td>\n",
              "      <td>0.148239</td>\n",
              "      <td>0.250313</td>\n",
              "      <td>0.372607</td>\n",
              "      <td>-0.362642</td>\n",
              "      <td>-0.470606</td>\n",
              "      <td>-0.543304</td>\n",
              "      <td>0.584642</td>\n",
              "    </tr>\n",
              "    <tr>\n",
              "      <th>length</th>\n",
              "      <td>-0.365404</td>\n",
              "      <td>0.103659</td>\n",
              "      <td>0.876024</td>\n",
              "      <td>1.000000</td>\n",
              "      <td>0.857170</td>\n",
              "      <td>0.492063</td>\n",
              "      <td>0.880665</td>\n",
              "      <td>0.685025</td>\n",
              "      <td>0.610324</td>\n",
              "      <td>0.116745</td>\n",
              "      <td>0.159733</td>\n",
              "      <td>0.577923</td>\n",
              "      <td>-0.281932</td>\n",
              "      <td>-0.665192</td>\n",
              "      <td>-0.698142</td>\n",
              "      <td>0.690628</td>\n",
              "    </tr>\n",
              "    <tr>\n",
              "      <th>width</th>\n",
              "      <td>-0.242423</td>\n",
              "      <td>0.153752</td>\n",
              "      <td>0.814507</td>\n",
              "      <td>0.857170</td>\n",
              "      <td>1.000000</td>\n",
              "      <td>0.306002</td>\n",
              "      <td>0.866201</td>\n",
              "      <td>0.729436</td>\n",
              "      <td>0.545028</td>\n",
              "      <td>0.186352</td>\n",
              "      <td>0.189867</td>\n",
              "      <td>0.613488</td>\n",
              "      <td>-0.242569</td>\n",
              "      <td>-0.633531</td>\n",
              "      <td>-0.680635</td>\n",
              "      <td>0.751265</td>\n",
              "    </tr>\n",
              "    <tr>\n",
              "      <th>height</th>\n",
              "      <td>-0.550160</td>\n",
              "      <td>-0.335476</td>\n",
              "      <td>0.590742</td>\n",
              "      <td>0.492063</td>\n",
              "      <td>0.306002</td>\n",
              "      <td>1.000000</td>\n",
              "      <td>0.307581</td>\n",
              "      <td>0.074694</td>\n",
              "      <td>0.186701</td>\n",
              "      <td>-0.086508</td>\n",
              "      <td>0.259737</td>\n",
              "      <td>-0.085544</td>\n",
              "      <td>-0.311922</td>\n",
              "      <td>-0.049800</td>\n",
              "      <td>-0.104812</td>\n",
              "      <td>0.135486</td>\n",
              "    </tr>\n",
              "    <tr>\n",
              "      <th>curb_weight</th>\n",
              "      <td>-0.233118</td>\n",
              "      <td>0.178547</td>\n",
              "      <td>0.782097</td>\n",
              "      <td>0.880665</td>\n",
              "      <td>0.866201</td>\n",
              "      <td>0.307581</td>\n",
              "      <td>1.000000</td>\n",
              "      <td>0.849072</td>\n",
              "      <td>0.644871</td>\n",
              "      <td>0.162179</td>\n",
              "      <td>0.156433</td>\n",
              "      <td>0.757762</td>\n",
              "      <td>-0.279027</td>\n",
              "      <td>-0.749543</td>\n",
              "      <td>-0.794889</td>\n",
              "      <td>0.834415</td>\n",
              "    </tr>\n",
              "    <tr>\n",
              "      <th>engine_size</th>\n",
              "      <td>-0.110581</td>\n",
              "      <td>0.174788</td>\n",
              "      <td>0.572027</td>\n",
              "      <td>0.685025</td>\n",
              "      <td>0.729436</td>\n",
              "      <td>0.074694</td>\n",
              "      <td>0.849072</td>\n",
              "      <td>1.000000</td>\n",
              "      <td>0.577265</td>\n",
              "      <td>0.184605</td>\n",
              "      <td>0.028889</td>\n",
              "      <td>0.821685</td>\n",
              "      <td>-0.254961</td>\n",
              "      <td>-0.650546</td>\n",
              "      <td>-0.679571</td>\n",
              "      <td>0.872335</td>\n",
              "    </tr>\n",
              "    <tr>\n",
              "      <th>bore</th>\n",
              "      <td>-0.146355</td>\n",
              "      <td>0.007498</td>\n",
              "      <td>0.495210</td>\n",
              "      <td>0.610324</td>\n",
              "      <td>0.545028</td>\n",
              "      <td>0.186701</td>\n",
              "      <td>0.644871</td>\n",
              "      <td>0.577265</td>\n",
              "      <td>1.000000</td>\n",
              "      <td>-0.057887</td>\n",
              "      <td>0.001971</td>\n",
              "      <td>0.563921</td>\n",
              "      <td>-0.269486</td>\n",
              "      <td>-0.576954</td>\n",
              "      <td>-0.586917</td>\n",
              "      <td>0.543052</td>\n",
              "    </tr>\n",
              "    <tr>\n",
              "      <th>stroke</th>\n",
              "      <td>0.018373</td>\n",
              "      <td>0.062666</td>\n",
              "      <td>0.148239</td>\n",
              "      <td>0.116745</td>\n",
              "      <td>0.186352</td>\n",
              "      <td>-0.086508</td>\n",
              "      <td>0.162179</td>\n",
              "      <td>0.184605</td>\n",
              "      <td>-0.057887</td>\n",
              "      <td>1.000000</td>\n",
              "      <td>0.183855</td>\n",
              "      <td>0.092493</td>\n",
              "      <td>-0.019004</td>\n",
              "      <td>-0.053955</td>\n",
              "      <td>-0.051793</td>\n",
              "      <td>0.081434</td>\n",
              "    </tr>\n",
              "    <tr>\n",
              "      <th>compression_ratio</th>\n",
              "      <td>-0.182196</td>\n",
              "      <td>-0.120846</td>\n",
              "      <td>0.250313</td>\n",
              "      <td>0.159733</td>\n",
              "      <td>0.189867</td>\n",
              "      <td>0.259737</td>\n",
              "      <td>0.156433</td>\n",
              "      <td>0.028889</td>\n",
              "      <td>0.001971</td>\n",
              "      <td>0.183855</td>\n",
              "      <td>1.000000</td>\n",
              "      <td>-0.212984</td>\n",
              "      <td>-0.437263</td>\n",
              "      <td>0.331425</td>\n",
              "      <td>0.268465</td>\n",
              "      <td>0.071107</td>\n",
              "    </tr>\n",
              "    <tr>\n",
              "      <th>horsepower</th>\n",
              "      <td>0.075287</td>\n",
              "      <td>0.276665</td>\n",
              "      <td>0.372607</td>\n",
              "      <td>0.577923</td>\n",
              "      <td>0.613488</td>\n",
              "      <td>-0.085544</td>\n",
              "      <td>0.757762</td>\n",
              "      <td>0.821685</td>\n",
              "      <td>0.563921</td>\n",
              "      <td>0.092493</td>\n",
              "      <td>-0.212984</td>\n",
              "      <td>1.000000</td>\n",
              "      <td>0.104645</td>\n",
              "      <td>-0.820400</td>\n",
              "      <td>-0.804241</td>\n",
              "      <td>0.810795</td>\n",
              "    </tr>\n",
              "    <tr>\n",
              "      <th>peak_rpm</th>\n",
              "      <td>0.279849</td>\n",
              "      <td>0.211812</td>\n",
              "      <td>-0.362642</td>\n",
              "      <td>-0.281932</td>\n",
              "      <td>-0.242569</td>\n",
              "      <td>-0.311922</td>\n",
              "      <td>-0.279027</td>\n",
              "      <td>-0.254961</td>\n",
              "      <td>-0.269486</td>\n",
              "      <td>-0.019004</td>\n",
              "      <td>-0.437263</td>\n",
              "      <td>0.104645</td>\n",
              "      <td>1.000000</td>\n",
              "      <td>-0.117699</td>\n",
              "      <td>-0.058054</td>\n",
              "      <td>-0.104846</td>\n",
              "    </tr>\n",
              "    <tr>\n",
              "      <th>city_mpg</th>\n",
              "      <td>-0.035527</td>\n",
              "      <td>-0.301206</td>\n",
              "      <td>-0.470606</td>\n",
              "      <td>-0.665192</td>\n",
              "      <td>-0.633531</td>\n",
              "      <td>-0.049800</td>\n",
              "      <td>-0.749543</td>\n",
              "      <td>-0.650546</td>\n",
              "      <td>-0.576954</td>\n",
              "      <td>-0.053955</td>\n",
              "      <td>0.331425</td>\n",
              "      <td>-0.820400</td>\n",
              "      <td>-0.117699</td>\n",
              "      <td>1.000000</td>\n",
              "      <td>0.972044</td>\n",
              "      <td>-0.686571</td>\n",
              "    </tr>\n",
              "    <tr>\n",
              "      <th>highway_mpg</th>\n",
              "      <td>0.036233</td>\n",
              "      <td>-0.264594</td>\n",
              "      <td>-0.543304</td>\n",
              "      <td>-0.698142</td>\n",
              "      <td>-0.680635</td>\n",
              "      <td>-0.104812</td>\n",
              "      <td>-0.794889</td>\n",
              "      <td>-0.679571</td>\n",
              "      <td>-0.586917</td>\n",
              "      <td>-0.051793</td>\n",
              "      <td>0.268465</td>\n",
              "      <td>-0.804241</td>\n",
              "      <td>-0.058054</td>\n",
              "      <td>0.972044</td>\n",
              "      <td>1.000000</td>\n",
              "      <td>-0.704692</td>\n",
              "    </tr>\n",
              "    <tr>\n",
              "      <th>price</th>\n",
              "      <td>-0.082391</td>\n",
              "      <td>0.208886</td>\n",
              "      <td>0.584642</td>\n",
              "      <td>0.690628</td>\n",
              "      <td>0.751265</td>\n",
              "      <td>0.135486</td>\n",
              "      <td>0.834415</td>\n",
              "      <td>0.872335</td>\n",
              "      <td>0.543052</td>\n",
              "      <td>0.081434</td>\n",
              "      <td>0.071107</td>\n",
              "      <td>0.810795</td>\n",
              "      <td>-0.104846</td>\n",
              "      <td>-0.686571</td>\n",
              "      <td>-0.704692</td>\n",
              "      <td>1.000000</td>\n",
              "    </tr>\n",
              "  </tbody>\n",
              "</table>\n",
              "</div>"
            ],
            "text/plain": [
              "                   symboling  normalized_losses  ...  highway_mpg     price\n",
              "symboling           1.000000           0.474993  ...     0.036233 -0.082391\n",
              "normalized_losses   0.474993           1.000000  ...    -0.264594  0.208886\n",
              "wheel_base         -0.535987           0.007815  ...    -0.543304  0.584642\n",
              "length             -0.365404           0.103659  ...    -0.698142  0.690628\n",
              "width              -0.242423           0.153752  ...    -0.680635  0.751265\n",
              "height             -0.550160          -0.335476  ...    -0.104812  0.135486\n",
              "curb_weight        -0.233118           0.178547  ...    -0.794889  0.834415\n",
              "engine_size        -0.110581           0.174788  ...    -0.679571  0.872335\n",
              "bore               -0.146355           0.007498  ...    -0.586917  0.543052\n",
              "stroke              0.018373           0.062666  ...    -0.051793  0.081434\n",
              "compression_ratio  -0.182196          -0.120846  ...     0.268465  0.071107\n",
              "horsepower          0.075287           0.276665  ...    -0.804241  0.810795\n",
              "peak_rpm            0.279849           0.211812  ...    -0.058054 -0.104846\n",
              "city_mpg           -0.035527          -0.301206  ...     0.972044 -0.686571\n",
              "highway_mpg         0.036233          -0.264594  ...     1.000000 -0.704692\n",
              "price              -0.082391           0.208886  ...    -0.704692  1.000000\n",
              "\n",
              "[16 rows x 16 columns]"
            ]
          },
          "metadata": {
            "tags": []
          },
          "execution_count": 7
        }
      ]
    },
    {
      "cell_type": "markdown",
      "metadata": {
        "id": "rukTJHr8bVfD",
        "colab_type": "text"
      },
      "source": [
        "## Visualizing Correlation using Seaborn Heatmap for better understanding"
      ]
    },
    {
      "cell_type": "code",
      "metadata": {
        "id": "aX9dsKpr8Q9O",
        "colab_type": "code",
        "colab": {
          "base_uri": "https://localhost:8080/",
          "height": 911
        },
        "outputId": "735a4cc1-7452-40fe-f4d5-7df3df9d0ee1"
      },
      "source": [
        "plt.figure(figsize=(14,14))\n",
        "sns.heatmap(df.corr(),cmap=\"RdBu\", vmin=-1,vmax=1, annot=True)"
      ],
      "execution_count": null,
      "outputs": [
        {
          "output_type": "execute_result",
          "data": {
            "text/plain": [
              "<matplotlib.axes._subplots.AxesSubplot at 0x7f3be0ab5710>"
            ]
          },
          "metadata": {
            "tags": []
          },
          "execution_count": 8
        },
        {
          "output_type": "display_data",
          "data": {
            "image/png": "[encoded data removed]",
            "text/plain": [
              "<Figure size 1008x1008 with 2 Axes>"
            ]
          },
          "metadata": {
            "tags": [],
            "needs_background": "light"
          }
        }
      ]
    },
    {
      "cell_type": "markdown",
      "metadata": {
        "id": "yMM9EsAZbibM",
        "colab_type": "text"
      },
      "source": [
        "## Converting Body_Style column into categorical column with valuess(premium or non - premium ) based on our porblem statement"
      ]
    },
    {
      "cell_type": "code",
      "metadata": {
        "id": "F6SXPQUF9K2A",
        "colab_type": "code",
        "colab": {}
      },
      "source": [
        "df[\"body_style\"]= df[\"body_style\"].str.replace(\"convertible\", \"Premium\", case = False) "
      ],
      "execution_count": null,
      "outputs": []
    },
    {
      "cell_type": "code",
      "metadata": {
        "id": "MGkZq2yg-aeo",
        "colab_type": "code",
        "colab": {}
      },
      "source": [
        "df[\"body_style\"]= df[\"body_style\"].str.replace(\"hardtop\", \"Premium\", case = False) "
      ],
      "execution_count": null,
      "outputs": []
    },
    {
      "cell_type": "code",
      "metadata": {
        "id": "brvxMw5cAQJd",
        "colab_type": "code",
        "colab": {}
      },
      "source": [
        "df[\"body_style\"]= df[\"body_style\"].str.replace(\"sedan\", \"Non-Premium\", case = False) "
      ],
      "execution_count": null,
      "outputs": []
    },
    {
      "cell_type": "code",
      "metadata": {
        "id": "WpL-6vDmAYJM",
        "colab_type": "code",
        "colab": {}
      },
      "source": [
        "df[\"body_style\"]= df[\"body_style\"].str.replace(\"wagon\", \"Non-Premium\", case = False) "
      ],
      "execution_count": null,
      "outputs": []
    },
    {
      "cell_type": "code",
      "metadata": {
        "id": "jiJztpW4Ab-6",
        "colab_type": "code",
        "colab": {}
      },
      "source": [
        "df[\"body_style\"]= df[\"body_style\"].str.replace(\"hatchback\", \"Non-Premium\", case = False) "
      ],
      "execution_count": null,
      "outputs": []
    },
    {
      "cell_type": "code",
      "metadata": {
        "id": "C_0Eg_8sAfiw",
        "colab_type": "code",
        "colab": {
          "base_uri": "https://localhost:8080/",
          "height": 609
        },
        "outputId": "88b05fd5-734b-4b5e-9d67-eef91110f5f4"
      },
      "source": [
        "df"
      ],
      "execution_count": null,
      "outputs": [
        {
          "output_type": "execute_result",
          "data": {
            "text/html": [
              "<div>\n",
              "<style scoped>\n",
              "    .dataframe tbody tr th:only-of-type {\n",
              "        vertical-align: middle;\n",
              "    }\n",
              "\n",
              "    .dataframe tbody tr th {\n",
              "        vertical-align: top;\n",
              "    }\n",
              "\n",
              "    .dataframe thead th {\n",
              "        text-align: right;\n",
              "    }\n",
              "</style>\n",
              "<table border=\"1\" class=\"dataframe\">\n",
              "  <thead>\n",
              "    <tr style=\"text-align: right;\">\n",
              "      <th></th>\n",
              "      <th>symboling</th>\n",
              "      <th>normalized_losses</th>\n",
              "      <th>make</th>\n",
              "      <th>fuel_type</th>\n",
              "      <th>aspiration</th>\n",
              "      <th>number_of_doors</th>\n",
              "      <th>body_style</th>\n",
              "      <th>drive_wheels</th>\n",
              "      <th>engine_location</th>\n",
              "      <th>wheel_base</th>\n",
              "      <th>length</th>\n",
              "      <th>width</th>\n",
              "      <th>height</th>\n",
              "      <th>curb_weight</th>\n",
              "      <th>engine_type</th>\n",
              "      <th>number_of_cylinders</th>\n",
              "      <th>engine_size</th>\n",
              "      <th>fuel_system</th>\n",
              "      <th>bore</th>\n",
              "      <th>stroke</th>\n",
              "      <th>compression_ratio</th>\n",
              "      <th>horsepower</th>\n",
              "      <th>peak_rpm</th>\n",
              "      <th>city_mpg</th>\n",
              "      <th>highway_mpg</th>\n",
              "      <th>price</th>\n",
              "    </tr>\n",
              "  </thead>\n",
              "  <tbody>\n",
              "    <tr>\n",
              "      <th>0</th>\n",
              "      <td>3</td>\n",
              "      <td>168</td>\n",
              "      <td>alfa-romero</td>\n",
              "      <td>gas</td>\n",
              "      <td>std</td>\n",
              "      <td>two</td>\n",
              "      <td>Premium</td>\n",
              "      <td>rwd</td>\n",
              "      <td>front</td>\n",
              "      <td>88.6</td>\n",
              "      <td>168.8</td>\n",
              "      <td>64.1</td>\n",
              "      <td>48.8</td>\n",
              "      <td>2548</td>\n",
              "      <td>dohc</td>\n",
              "      <td>four</td>\n",
              "      <td>130</td>\n",
              "      <td>mpfi</td>\n",
              "      <td>3.47</td>\n",
              "      <td>2.68</td>\n",
              "      <td>9.0</td>\n",
              "      <td>111</td>\n",
              "      <td>5000</td>\n",
              "      <td>21</td>\n",
              "      <td>27</td>\n",
              "      <td>13495</td>\n",
              "    </tr>\n",
              "    <tr>\n",
              "      <th>1</th>\n",
              "      <td>3</td>\n",
              "      <td>168</td>\n",
              "      <td>alfa-romero</td>\n",
              "      <td>gas</td>\n",
              "      <td>std</td>\n",
              "      <td>two</td>\n",
              "      <td>Premium</td>\n",
              "      <td>rwd</td>\n",
              "      <td>front</td>\n",
              "      <td>88.6</td>\n",
              "      <td>168.8</td>\n",
              "      <td>64.1</td>\n",
              "      <td>48.8</td>\n",
              "      <td>2548</td>\n",
              "      <td>dohc</td>\n",
              "      <td>four</td>\n",
              "      <td>130</td>\n",
              "      <td>mpfi</td>\n",
              "      <td>3.47</td>\n",
              "      <td>2.68</td>\n",
              "      <td>9.0</td>\n",
              "      <td>111</td>\n",
              "      <td>5000</td>\n",
              "      <td>21</td>\n",
              "      <td>27</td>\n",
              "      <td>16500</td>\n",
              "    </tr>\n",
              "    <tr>\n",
              "      <th>2</th>\n",
              "      <td>1</td>\n",
              "      <td>168</td>\n",
              "      <td>alfa-romero</td>\n",
              "      <td>gas</td>\n",
              "      <td>std</td>\n",
              "      <td>two</td>\n",
              "      <td>Non-Premium</td>\n",
              "      <td>rwd</td>\n",
              "      <td>front</td>\n",
              "      <td>94.5</td>\n",
              "      <td>171.2</td>\n",
              "      <td>65.5</td>\n",
              "      <td>52.4</td>\n",
              "      <td>2823</td>\n",
              "      <td>ohcv</td>\n",
              "      <td>six</td>\n",
              "      <td>152</td>\n",
              "      <td>mpfi</td>\n",
              "      <td>2.68</td>\n",
              "      <td>3.47</td>\n",
              "      <td>9.0</td>\n",
              "      <td>154</td>\n",
              "      <td>5000</td>\n",
              "      <td>19</td>\n",
              "      <td>26</td>\n",
              "      <td>16500</td>\n",
              "    </tr>\n",
              "    <tr>\n",
              "      <th>3</th>\n",
              "      <td>2</td>\n",
              "      <td>164</td>\n",
              "      <td>audi</td>\n",
              "      <td>gas</td>\n",
              "      <td>std</td>\n",
              "      <td>four</td>\n",
              "      <td>Non-Premium</td>\n",
              "      <td>fwd</td>\n",
              "      <td>front</td>\n",
              "      <td>99.8</td>\n",
              "      <td>176.6</td>\n",
              "      <td>66.2</td>\n",
              "      <td>54.3</td>\n",
              "      <td>2337</td>\n",
              "      <td>ohc</td>\n",
              "      <td>four</td>\n",
              "      <td>109</td>\n",
              "      <td>mpfi</td>\n",
              "      <td>3.19</td>\n",
              "      <td>3.40</td>\n",
              "      <td>10.0</td>\n",
              "      <td>102</td>\n",
              "      <td>5500</td>\n",
              "      <td>24</td>\n",
              "      <td>30</td>\n",
              "      <td>13950</td>\n",
              "    </tr>\n",
              "    <tr>\n",
              "      <th>4</th>\n",
              "      <td>2</td>\n",
              "      <td>164</td>\n",
              "      <td>audi</td>\n",
              "      <td>gas</td>\n",
              "      <td>std</td>\n",
              "      <td>four</td>\n",
              "      <td>Non-Premium</td>\n",
              "      <td>4wd</td>\n",
              "      <td>front</td>\n",
              "      <td>99.4</td>\n",
              "      <td>176.6</td>\n",
              "      <td>66.4</td>\n",
              "      <td>54.3</td>\n",
              "      <td>2824</td>\n",
              "      <td>ohc</td>\n",
              "      <td>five</td>\n",
              "      <td>136</td>\n",
              "      <td>mpfi</td>\n",
              "      <td>3.19</td>\n",
              "      <td>3.40</td>\n",
              "      <td>8.0</td>\n",
              "      <td>115</td>\n",
              "      <td>5500</td>\n",
              "      <td>18</td>\n",
              "      <td>22</td>\n",
              "      <td>17450</td>\n",
              "    </tr>\n",
              "    <tr>\n",
              "      <th>...</th>\n",
              "      <td>...</td>\n",
              "      <td>...</td>\n",
              "      <td>...</td>\n",
              "      <td>...</td>\n",
              "      <td>...</td>\n",
              "      <td>...</td>\n",
              "      <td>...</td>\n",
              "      <td>...</td>\n",
              "      <td>...</td>\n",
              "      <td>...</td>\n",
              "      <td>...</td>\n",
              "      <td>...</td>\n",
              "      <td>...</td>\n",
              "      <td>...</td>\n",
              "      <td>...</td>\n",
              "      <td>...</td>\n",
              "      <td>...</td>\n",
              "      <td>...</td>\n",
              "      <td>...</td>\n",
              "      <td>...</td>\n",
              "      <td>...</td>\n",
              "      <td>...</td>\n",
              "      <td>...</td>\n",
              "      <td>...</td>\n",
              "      <td>...</td>\n",
              "      <td>...</td>\n",
              "    </tr>\n",
              "    <tr>\n",
              "      <th>196</th>\n",
              "      <td>-1</td>\n",
              "      <td>95</td>\n",
              "      <td>volvo</td>\n",
              "      <td>gas</td>\n",
              "      <td>std</td>\n",
              "      <td>four</td>\n",
              "      <td>Non-Premium</td>\n",
              "      <td>rwd</td>\n",
              "      <td>front</td>\n",
              "      <td>109.1</td>\n",
              "      <td>188.8</td>\n",
              "      <td>68.9</td>\n",
              "      <td>55.5</td>\n",
              "      <td>2952</td>\n",
              "      <td>ohc</td>\n",
              "      <td>four</td>\n",
              "      <td>141</td>\n",
              "      <td>mpfi</td>\n",
              "      <td>3.78</td>\n",
              "      <td>3.15</td>\n",
              "      <td>9.5</td>\n",
              "      <td>114</td>\n",
              "      <td>5400</td>\n",
              "      <td>23</td>\n",
              "      <td>28</td>\n",
              "      <td>16845</td>\n",
              "    </tr>\n",
              "    <tr>\n",
              "      <th>197</th>\n",
              "      <td>-1</td>\n",
              "      <td>95</td>\n",
              "      <td>volvo</td>\n",
              "      <td>gas</td>\n",
              "      <td>turbo</td>\n",
              "      <td>four</td>\n",
              "      <td>Non-Premium</td>\n",
              "      <td>rwd</td>\n",
              "      <td>front</td>\n",
              "      <td>109.1</td>\n",
              "      <td>188.8</td>\n",
              "      <td>68.8</td>\n",
              "      <td>55.5</td>\n",
              "      <td>3049</td>\n",
              "      <td>ohc</td>\n",
              "      <td>four</td>\n",
              "      <td>141</td>\n",
              "      <td>mpfi</td>\n",
              "      <td>3.78</td>\n",
              "      <td>3.15</td>\n",
              "      <td>8.7</td>\n",
              "      <td>160</td>\n",
              "      <td>5300</td>\n",
              "      <td>19</td>\n",
              "      <td>25</td>\n",
              "      <td>19045</td>\n",
              "    </tr>\n",
              "    <tr>\n",
              "      <th>198</th>\n",
              "      <td>-1</td>\n",
              "      <td>95</td>\n",
              "      <td>volvo</td>\n",
              "      <td>gas</td>\n",
              "      <td>std</td>\n",
              "      <td>four</td>\n",
              "      <td>Non-Premium</td>\n",
              "      <td>rwd</td>\n",
              "      <td>front</td>\n",
              "      <td>109.1</td>\n",
              "      <td>188.8</td>\n",
              "      <td>68.9</td>\n",
              "      <td>55.5</td>\n",
              "      <td>3012</td>\n",
              "      <td>ohcv</td>\n",
              "      <td>six</td>\n",
              "      <td>173</td>\n",
              "      <td>mpfi</td>\n",
              "      <td>3.58</td>\n",
              "      <td>2.87</td>\n",
              "      <td>8.8</td>\n",
              "      <td>134</td>\n",
              "      <td>5500</td>\n",
              "      <td>18</td>\n",
              "      <td>23</td>\n",
              "      <td>21485</td>\n",
              "    </tr>\n",
              "    <tr>\n",
              "      <th>199</th>\n",
              "      <td>-1</td>\n",
              "      <td>95</td>\n",
              "      <td>volvo</td>\n",
              "      <td>diesel</td>\n",
              "      <td>turbo</td>\n",
              "      <td>four</td>\n",
              "      <td>Non-Premium</td>\n",
              "      <td>rwd</td>\n",
              "      <td>front</td>\n",
              "      <td>109.1</td>\n",
              "      <td>188.8</td>\n",
              "      <td>68.9</td>\n",
              "      <td>55.5</td>\n",
              "      <td>3217</td>\n",
              "      <td>ohc</td>\n",
              "      <td>six</td>\n",
              "      <td>145</td>\n",
              "      <td>idi</td>\n",
              "      <td>3.01</td>\n",
              "      <td>3.40</td>\n",
              "      <td>23.0</td>\n",
              "      <td>106</td>\n",
              "      <td>4800</td>\n",
              "      <td>26</td>\n",
              "      <td>27</td>\n",
              "      <td>22470</td>\n",
              "    </tr>\n",
              "    <tr>\n",
              "      <th>200</th>\n",
              "      <td>-1</td>\n",
              "      <td>95</td>\n",
              "      <td>volvo</td>\n",
              "      <td>gas</td>\n",
              "      <td>turbo</td>\n",
              "      <td>four</td>\n",
              "      <td>Non-Premium</td>\n",
              "      <td>rwd</td>\n",
              "      <td>front</td>\n",
              "      <td>109.1</td>\n",
              "      <td>188.8</td>\n",
              "      <td>68.9</td>\n",
              "      <td>55.5</td>\n",
              "      <td>3062</td>\n",
              "      <td>ohc</td>\n",
              "      <td>four</td>\n",
              "      <td>141</td>\n",
              "      <td>mpfi</td>\n",
              "      <td>3.78</td>\n",
              "      <td>3.15</td>\n",
              "      <td>9.5</td>\n",
              "      <td>114</td>\n",
              "      <td>5400</td>\n",
              "      <td>19</td>\n",
              "      <td>25</td>\n",
              "      <td>22625</td>\n",
              "    </tr>\n",
              "  </tbody>\n",
              "</table>\n",
              "<p>201 rows × 26 columns</p>\n",
              "</div>"
            ],
            "text/plain": [
              "     symboling  normalized_losses         make  ... city_mpg highway_mpg  price\n",
              "0            3                168  alfa-romero  ...       21          27  13495\n",
              "1            3                168  alfa-romero  ...       21          27  16500\n",
              "2            1                168  alfa-romero  ...       19          26  16500\n",
              "3            2                164         audi  ...       24          30  13950\n",
              "4            2                164         audi  ...       18          22  17450\n",
              "..         ...                ...          ...  ...      ...         ...    ...\n",
              "196         -1                 95        volvo  ...       23          28  16845\n",
              "197         -1                 95        volvo  ...       19          25  19045\n",
              "198         -1                 95        volvo  ...       18          23  21485\n",
              "199         -1                 95        volvo  ...       26          27  22470\n",
              "200         -1                 95        volvo  ...       19          25  22625\n",
              "\n",
              "[201 rows x 26 columns]"
            ]
          },
          "metadata": {
            "tags": []
          },
          "execution_count": 14
        }
      ]
    },
    {
      "cell_type": "markdown",
      "metadata": {
        "id": "9U4rmx4PbwWA",
        "colab_type": "text"
      },
      "source": [
        "## **Separating** the data into target variable and Explanatory variable"
      ]
    },
    {
      "cell_type": "code",
      "metadata": {
        "id": "Kw73necPAjen",
        "colab_type": "code",
        "colab": {}
      },
      "source": [
        "x=df.drop(['body_style'],axis=1)\n",
        "y=df['body_style']"
      ],
      "execution_count": null,
      "outputs": []
    },
    {
      "cell_type": "markdown",
      "metadata": {
        "id": "cyGh3Gj-b5TT",
        "colab_type": "text"
      },
      "source": [
        "## Creating dummy variable for categorical features "
      ]
    },
    {
      "cell_type": "code",
      "metadata": {
        "id": "Ik8n79C5CPd0",
        "colab_type": "code",
        "colab": {}
      },
      "source": [
        "xdummy=pd.get_dummies(x,drop_first=True)"
      ],
      "execution_count": null,
      "outputs": []
    },
    {
      "cell_type": "markdown",
      "metadata": {
        "id": "sjhEKzAecBOq",
        "colab_type": "text"
      },
      "source": [
        "## Standardisation of data "
      ]
    },
    {
      "cell_type": "code",
      "metadata": {
        "id": "euq7J395CXtI",
        "colab_type": "code",
        "colab": {
          "base_uri": "https://localhost:8080/",
          "height": 238
        },
        "outputId": "686c6280-a8bb-4d67-9c1d-b0c4f97178a1"
      },
      "source": [
        "from sklearn.preprocessing import StandardScaler\n",
        "scaler=StandardScaler()\n",
        "scaler.fit_transform(xdummy)"
      ],
      "execution_count": null,
      "outputs": [
        {
          "output_type": "execute_result",
          "data": {
            "text/plain": [
              "array([[ 1.72504964,  1.27834516, -1.6851071 , ...,  1.0884772 ,\n",
              "        -0.21650635, -0.07071068],\n",
              "       [ 1.72504964,  1.27834516, -1.6851071 , ...,  1.0884772 ,\n",
              "        -0.21650635, -0.07071068],\n",
              "       [ 0.1271926 ,  1.27834516, -0.71010295, ...,  1.0884772 ,\n",
              "        -0.21650635, -0.07071068],\n",
              "       ...,\n",
              "       [-1.47066444, -0.90145246,  1.70261919, ...,  1.0884772 ,\n",
              "        -0.21650635, -0.07071068],\n",
              "       [-1.47066444, -0.90145246,  1.70261919, ..., -0.9187147 ,\n",
              "        -0.21650635, -0.07071068],\n",
              "       [-1.47066444, -0.90145246,  1.70261919, ...,  1.0884772 ,\n",
              "        -0.21650635, -0.07071068]])"
            ]
          },
          "metadata": {
            "tags": []
          },
          "execution_count": 17
        }
      ]
    },
    {
      "cell_type": "markdown",
      "metadata": {
        "id": "_XuykcuRcIl6",
        "colab_type": "text"
      },
      "source": [
        "## Splitting the dataset into test and train in order to check the validity of our model"
      ]
    },
    {
      "cell_type": "code",
      "metadata": {
        "id": "DEQbFl6EBw-o",
        "colab_type": "code",
        "colab": {}
      },
      "source": [
        "X_train,X_test,y_train,y_test=train_test_split(xdummy,y,test_size=0.25,random_state=360)"
      ],
      "execution_count": null,
      "outputs": []
    },
    {
      "cell_type": "markdown",
      "metadata": {
        "id": "qsPo7zGKcRTL",
        "colab_type": "text"
      },
      "source": [
        "## Using Logistic Regression"
      ]
    },
    {
      "cell_type": "code",
      "metadata": {
        "id": "YowN4ywlCrs_",
        "colab_type": "code",
        "colab": {}
      },
      "source": [
        "logmod=LogisticRegression()"
      ],
      "execution_count": null,
      "outputs": []
    },
    {
      "cell_type": "markdown",
      "metadata": {
        "id": "FBa7ChbmcXvi",
        "colab_type": "text"
      },
      "source": [
        "## Fitting the model to our pre-processed dataset"
      ]
    },
    {
      "cell_type": "code",
      "metadata": {
        "id": "xYOUPi00CzKy",
        "colab_type": "code",
        "colab": {
          "base_uri": "https://localhost:8080/",
          "height": 153
        },
        "outputId": "e57a534b-13db-433b-b501-1223f917b3a1"
      },
      "source": [
        "model1=logmod.fit(X_train,y_train)"
      ],
      "execution_count": null,
      "outputs": [
        {
          "output_type": "stream",
          "text": [
            "/usr/local/lib/python3.6/dist-packages/sklearn/linear_model/_logistic.py:940: ConvergenceWarning: lbfgs failed to converge (status=1):\n",
            "STOP: TOTAL NO. of ITERATIONS REACHED LIMIT.\n",
            "\n",
            "Increase the number of iterations (max_iter) or scale the data as shown in:\n",
            "    https://scikit-learn.org/stable/modules/preprocessing.html\n",
            "Please also refer to the documentation for alternative solver options:\n",
            "    https://scikit-learn.org/stable/modules/linear_model.html#logistic-regression\n",
            "  extra_warning_msg=_LOGISTIC_SOLVER_CONVERGENCE_MSG)\n"
          ],
          "name": "stderr"
        }
      ]
    },
    {
      "cell_type": "markdown",
      "metadata": {
        "id": "aM31grZWcebj",
        "colab_type": "text"
      },
      "source": [
        "## Importing evaluation metrics to check the accuracy of our model"
      ]
    },
    {
      "cell_type": "code",
      "metadata": {
        "id": "f0o9FmM0C-b4",
        "colab_type": "code",
        "colab": {}
      },
      "source": [
        "from sklearn.metrics import classification_report,accuracy_score,roc_auc_score,precision_recall_curve,confusion_matrix,precision_score,confusion_matrix"
      ],
      "execution_count": null,
      "outputs": []
    },
    {
      "cell_type": "markdown",
      "metadata": {
        "id": "JRvF71WNjGJr",
        "colab_type": "text"
      },
      "source": [
        "##We try to predict the test data now"
      ]
    },
    {
      "cell_type": "code",
      "metadata": {
        "id": "OfwfMVAiDGJC",
        "colab_type": "code",
        "colab": {}
      },
      "source": [
        "pred=model1.predict(X_test)"
      ],
      "execution_count": null,
      "outputs": []
    },
    {
      "cell_type": "markdown",
      "metadata": {
        "id": "mk0_dyvQjP-D",
        "colab_type": "text"
      },
      "source": [
        "##We check the accuracy score now"
      ]
    },
    {
      "cell_type": "code",
      "metadata": {
        "id": "eXG1k_8qDKmp",
        "colab_type": "code",
        "colab": {
          "base_uri": "https://localhost:8080/",
          "height": 221
        },
        "outputId": "12d532ae-194d-4685-8de4-10c28d28fa8b"
      },
      "source": [
        "print(classification_report(y_test, pred))\n",
        "print(confusion_matrix(y_test, pred))\n",
        "print(accuracy_score(y_test, pred))"
      ],
      "execution_count": null,
      "outputs": [
        {
          "output_type": "stream",
          "text": [
            "              precision    recall  f1-score   support\n",
            "\n",
            " Non-Premium       0.90      1.00      0.95        45\n",
            "     Premium       1.00      0.17      0.29         6\n",
            "\n",
            "    accuracy                           0.90        51\n",
            "   macro avg       0.95      0.58      0.62        51\n",
            "weighted avg       0.91      0.90      0.87        51\n",
            "\n",
            "[[45  0]\n",
            " [ 5  1]]\n",
            "0.9019607843137255\n"
          ],
          "name": "stdout"
        }
      ]
    },
    {
      "cell_type": "markdown",
      "metadata": {
        "id": "x6om1mrUjX0K",
        "colab_type": "text"
      },
      "source": [
        "##We run the XgBoost algorithm for feature extraction"
      ]
    },
    {
      "cell_type": "code",
      "metadata": {
        "id": "9BRAW3ZkFHp2",
        "colab_type": "code",
        "colab": {
          "base_uri": "https://localhost:8080/",
          "height": 34
        },
        "outputId": "f787eb90-d01f-445f-8d68-120eacabf52c"
      },
      "source": [
        "from xgboost import XGBClassifier\n",
        "\n",
        "from sklearn.metrics import accuracy_score\n",
        "\n",
        "model5 = XGBClassifier()\n",
        "model5.fit(X_train, y_train)\n",
        "# make predictions for test data\n",
        "y_pred = model5.predict(X_test)\n",
        "#predictions5 = [round(value) for value in y_pred]\n",
        "# evaluate predictions\n",
        "accuracy = accuracy_score(y_test,y_pred)\n",
        "print(\"Accuracy: %.2f%%\" % (accuracy * 100.0))"
      ],
      "execution_count": null,
      "outputs": [
        {
          "output_type": "stream",
          "text": [
            "Accuracy: 92.16%\n"
          ],
          "name": "stdout"
        }
      ]
    },
    {
      "cell_type": "code",
      "metadata": {
        "id": "u43twwEyFVyG",
        "colab_type": "code",
        "colab": {}
      },
      "source": [
        "from xgboost import plot_importance"
      ],
      "execution_count": null,
      "outputs": []
    },
    {
      "cell_type": "code",
      "metadata": {
        "id": "wIkYR6ExFcBk",
        "colab_type": "code",
        "colab": {
          "base_uri": "https://localhost:8080/",
          "height": 221
        },
        "outputId": "2a82f56d-7db8-4af0-af0f-3a97ea003bbe"
      },
      "source": [
        "print(model5.feature_importances_)"
      ],
      "execution_count": null,
      "outputs": [
        {
          "output_type": "stream",
          "text": [
            "[0.04619159 0.03136687 0.12309086 0.12108064 0.0410271  0.02692157\n",
            " 0.02492628 0.03469235 0.15465912 0.01425381 0.01629543 0.\n",
            " 0.05323965 0.01169034 0.         0.04062726 0.         0.\n",
            " 0.         0.         0.         0.         0.         0.\n",
            " 0.         0.05183266 0.         0.         0.02264633 0.\n",
            " 0.         0.         0.         0.         0.         0.06676648\n",
            " 0.         0.         0.         0.         0.         0.\n",
            " 0.06896502 0.         0.         0.         0.         0.\n",
            " 0.         0.         0.         0.04129039 0.         0.\n",
            " 0.         0.         0.00843626 0.         0.         0.\n",
            " 0.         0.         0.         0.         0.         0.\n",
            " 0.         0.         0.         0.        ]\n"
          ],
          "name": "stdout"
        }
      ]
    },
    {
      "cell_type": "markdown",
      "metadata": {
        "id": "Cqqs5PJWcuo8",
        "colab_type": "text"
      },
      "source": [
        "## Feature importance plot showing which explanatory varaible important for explaining the type of car (premium or non- premium)"
      ]
    },
    {
      "cell_type": "code",
      "metadata": {
        "id": "iRcg9oSoFgpb",
        "colab_type": "code",
        "colab": {
          "base_uri": "https://localhost:8080/",
          "height": 730
        },
        "outputId": "3d6397dc-1eab-4bac-efa6-2debe6a2880c"
      },
      "source": [
        "az = plot_importance(model5)\n",
        "az.figure.set_size_inches(10,12)"
      ],
      "execution_count": null,
      "outputs": [
        {
          "output_type": "display_data",
          "data": {
            "image/png": "[encoded data removed]",
            "text/plain": [
              "<Figure size 720x864 with 1 Axes>"
            ]
          },
          "metadata": {
            "tags": [],
            "needs_background": "light"
          }
        }
      ]
    },
    {
      "cell_type": "markdown",
      "metadata": {
        "id": "l2O198poc9Tb",
        "colab_type": "text"
      },
      "source": [
        "## Creating another model based on feature importance plot "
      ]
    },
    {
      "cell_type": "code",
      "metadata": {
        "id": "ZTu8l1oEFm0q",
        "colab_type": "code",
        "colab": {}
      },
      "source": [
        "x1=xdummy[['price','normalized_losses','width','curb_weight','peak_rpm','bore','make_toyota']]\n",
        "y1=df['body_style']"
      ],
      "execution_count": null,
      "outputs": []
    },
    {
      "cell_type": "code",
      "metadata": {
        "id": "wT-ywd3DHzUw",
        "colab_type": "code",
        "colab": {
          "base_uri": "https://localhost:8080/",
          "height": 238
        },
        "outputId": "e32e6618-47b8-4d81-a170-9f78a2110e70"
      },
      "source": [
        "from sklearn.preprocessing import StandardScaler\n",
        "scaler=StandardScaler()\n",
        "scaler.fit_transform(x1)"
      ],
      "execution_count": null,
      "outputs": [
        {
          "output_type": "execute_result",
          "data": {
            "text/plain": [
              "array([[ 0.03631396,  1.27834516, -0.85346024, ..., -0.2537319 ,\n",
              "         0.52448449, -0.43514263],\n",
              "       [ 0.41538505,  1.27834516, -0.85346024, ..., -0.2537319 ,\n",
              "         0.52448449, -0.43514263],\n",
              "       [ 0.41538505,  1.27834516, -0.18559675, ..., -0.2537319 ,\n",
              "        -2.42880955, -0.43514263],\n",
              "       ...,\n",
              "       [ 1.04422678, -0.90145246,  1.43635744, ...,  0.79135236,\n",
              "         0.93570265, -0.43514263],\n",
              "       [ 1.16848137, -0.90145246,  1.43635744, ..., -0.67176561,\n",
              "        -1.19515508, -0.43514263],\n",
              "       [ 1.18803412, -0.90145246,  1.43635744, ...,  0.58233551,\n",
              "         1.68337202, -0.43514263]])"
            ]
          },
          "metadata": {
            "tags": []
          },
          "execution_count": 76
        }
      ]
    },
    {
      "cell_type": "code",
      "metadata": {
        "id": "wmt0ujxBH-cB",
        "colab_type": "code",
        "colab": {}
      },
      "source": [
        "X_train1,X_test1,y_train1,y_test1=train_test_split(x1,y1,test_size=0.25,random_state=360)"
      ],
      "execution_count": null,
      "outputs": []
    },
    {
      "cell_type": "code",
      "metadata": {
        "id": "gdYyLN14Hv8m",
        "colab_type": "code",
        "colab": {
          "base_uri": "https://localhost:8080/",
          "height": 34
        },
        "outputId": "7eef5c38-2451-48b2-abdf-9c91e43d2623"
      },
      "source": [
        "mod6=model5.fit(X_train1, y_train1)\n",
        "# make predictions for test data\n",
        "y_pred1 = model5.predict(X_test1)\n",
        "#predictions5 = [round(value) for value in y_pred]\n",
        "# evaluate predictions\n",
        "accuracy1 = accuracy_score(y_test1,y_pred1)\n",
        "print(\"Accuracy: %.2f%%\" % (accuracy1 * 100.0))"
      ],
      "execution_count": null,
      "outputs": [
        {
          "output_type": "stream",
          "text": [
            "Accuracy: 92.16%\n"
          ],
          "name": "stdout"
        }
      ]
    },
    {
      "cell_type": "markdown",
      "metadata": {
        "id": "goKMGl8-dIFc",
        "colab_type": "text"
      },
      "source": [
        "## Checking the multicollinearity among the variables "
      ]
    },
    {
      "cell_type": "code",
      "metadata": {
        "id": "ZeMGckoWJJqp",
        "colab_type": "code",
        "colab": {}
      },
      "source": [
        "from statsmodels.stats.outliers_influence import variance_inflation_factor\n"
      ],
      "execution_count": null,
      "outputs": []
    },
    {
      "cell_type": "code",
      "metadata": {
        "id": "-49L0DWVHyrd",
        "colab_type": "code",
        "colab": {
          "base_uri": "https://localhost:8080/",
          "height": 51
        },
        "outputId": "5ed8d268-c35e-4257-c100-67c11a01e0f2"
      },
      "source": [
        "vif = pd.DataFrame()\n",
        "vif[\"VIF Factor\"] = [variance_inflation_factor(xdummy.values, i) for i in range(xdummy.shape[1])]\n",
        "vif[\"features\"] = xdummy.columns\n"
      ],
      "execution_count": null,
      "outputs": [
        {
          "output_type": "stream",
          "text": [
            "/usr/local/lib/python3.6/dist-packages/statsmodels/stats/outliers_influence.py:185: RuntimeWarning: divide by zero encountered in double_scalars\n",
            "  vif = 1. / (1. - r_squared_i)\n"
          ],
          "name": "stderr"
        }
      ]
    },
    {
      "cell_type": "code",
      "metadata": {
        "id": "bDnIR20mJXKf",
        "colab_type": "code",
        "colab": {
          "base_uri": "https://localhost:8080/",
          "height": 323
        },
        "outputId": "76c69ad6-6aa9-4a5d-91b7-63b5c404a37e"
      },
      "source": [
        "vif['features'].values"
      ],
      "execution_count": null,
      "outputs": [
        {
          "output_type": "execute_result",
          "data": {
            "text/plain": [
              "array(['symboling', 'normalized_losses', 'wheel_base', 'length', 'width',\n",
              "       'height', 'curb_weight', 'engine_size', 'bore', 'stroke',\n",
              "       'compression_ratio', 'horsepower', 'peak_rpm', 'city_mpg',\n",
              "       'highway_mpg', 'price', 'make_audi', 'make_bmw', 'make_chevrolet',\n",
              "       'make_dodge', 'make_honda', 'make_isuzu', 'make_jaguar',\n",
              "       'make_mazda', 'make_mercedes-benz', 'make_mercury',\n",
              "       'make_mitsubishi', 'make_nissan', 'make_peugot', 'make_plymouth',\n",
              "       'make_porsche', 'make_renault', 'make_saab', 'make_subaru',\n",
              "       'make_toyota', 'make_volkswagen', 'make_volvo', 'fuel_type_gas',\n",
              "       'aspiration_turbo', 'number_of_doors_two', 'drive_wheels_fwd',\n",
              "       'drive_wheels_rwd', 'engine_location_rear', 'engine_type_l',\n",
              "       'engine_type_ohc', 'engine_type_ohcf', 'engine_type_ohcv',\n",
              "       'engine_type_rotor', 'number_of_cylinders_five',\n",
              "       'number_of_cylinders_four', 'number_of_cylinders_six',\n",
              "       'number_of_cylinders_three', 'number_of_cylinders_twelve',\n",
              "       'number_of_cylinders_two', 'fuel_system_2bbl', 'fuel_system_4bbl',\n",
              "       'fuel_system_idi', 'fuel_system_mfi', 'fuel_system_mpfi',\n",
              "       'fuel_system_spdi', 'fuel_system_spfi'], dtype=object)"
            ]
          },
          "metadata": {
            "tags": []
          },
          "execution_count": 59
        }
      ]
    },
    {
      "cell_type": "code",
      "metadata": {
        "id": "QA1mOCjQJcDF",
        "colab_type": "code",
        "colab": {
          "base_uri": "https://localhost:8080/",
          "height": 289
        },
        "outputId": "d395b5aa-d363-4518-a717-cc9b3ee6d84f"
      },
      "source": [
        "vif['VIF Factor'].values"
      ],
      "execution_count": null,
      "outputs": [
        {
          "output_type": "execute_result",
          "data": {
            "text/plain": [
              "array([7.05132756e+00, 5.06097537e+00, 1.96698356e+01, 2.34426177e+01,\n",
              "       1.54241662e+01, 7.90711951e+00, 4.65457190e+01, 7.84815609e+01,\n",
              "       1.60509015e+01, 6.53702912e+00, 2.49472751e+02, 5.50382703e+01,\n",
              "       7.01261660e+00, 4.74811971e+01, 3.98269290e+01, 2.86566776e+01,\n",
              "       1.10679765e+01, 1.36517341e+01, 5.09608912e+00, 1.00272537e+01,\n",
              "       1.79001633e+01, 3.85265932e+00, 6.98361086e+00, 1.41461125e+01,\n",
              "       1.51279230e+01, 2.79753254e+00, 1.44432250e+01, 1.52420398e+01,\n",
              "                  inf, 7.78358512e+00, 1.01983086e+01, 3.48469274e+00,\n",
              "       7.82182627e+00,            inf, 2.10089100e+01, 1.23180354e+01,\n",
              "       1.56237398e+01, 1.51531574e+04, 6.62137878e+00, 3.25089353e+00,\n",
              "       1.30828195e+01, 2.35343521e+01,            inf,            inf,\n",
              "       1.93632663e+01,            inf, 6.06042753e+00,            inf,\n",
              "       2.52936456e+01, 1.37208854e+02, 4.96466296e+01,            inf,\n",
              "       8.41722295e+00,            inf, 3.11685628e+01, 6.23474982e+00,\n",
              "       2.07048069e+03, 2.23802256e+00, 3.89443102e+01, 9.28894821e+00,\n",
              "       3.04736099e+00])"
            ]
          },
          "metadata": {
            "tags": []
          },
          "execution_count": 60
        }
      ]
    },
    {
      "cell_type": "markdown",
      "metadata": {
        "id": "5kzQvEUmdP7e",
        "colab_type": "text"
      },
      "source": [
        "## Using Linear Regression to understand which variable important in explaining the price of the car"
      ]
    },
    {
      "cell_type": "code",
      "metadata": {
        "id": "mYAleutSJsHu",
        "colab_type": "code",
        "colab": {}
      },
      "source": [
        "from sklearn.linear_model import LinearRegression as lr"
      ],
      "execution_count": null,
      "outputs": []
    },
    {
      "cell_type": "code",
      "metadata": {
        "id": "cfWz48ZCViFx",
        "colab_type": "code",
        "colab": {}
      },
      "source": [
        "x5=df.drop(['price'],axis=1)\n",
        "y5=df['price']"
      ],
      "execution_count": null,
      "outputs": []
    },
    {
      "cell_type": "code",
      "metadata": {
        "id": "8XNZUms9X9Er",
        "colab_type": "code",
        "colab": {}
      },
      "source": [
        "x6=pd.get_dummies(x5,drop_first=True)"
      ],
      "execution_count": null,
      "outputs": []
    },
    {
      "cell_type": "code",
      "metadata": {
        "id": "rA4yjG5yXxrO",
        "colab_type": "code",
        "colab": {
          "base_uri": "https://localhost:8080/",
          "height": 238
        },
        "outputId": "e5157726-d3db-42b9-a7fb-4d69813d71d8"
      },
      "source": [
        "from sklearn.preprocessing import StandardScaler\n",
        "scaler=StandardScaler()\n",
        "scaler.fit_transform(x6)"
      ],
      "execution_count": null,
      "outputs": [
        {
          "output_type": "execute_result",
          "data": {
            "text/plain": [
              "array([[ 1.72504964,  1.27834516, -1.6851071 , ...,  1.0884772 ,\n",
              "        -0.21650635, -0.07071068],\n",
              "       [ 1.72504964,  1.27834516, -1.6851071 , ...,  1.0884772 ,\n",
              "        -0.21650635, -0.07071068],\n",
              "       [ 0.1271926 ,  1.27834516, -0.71010295, ...,  1.0884772 ,\n",
              "        -0.21650635, -0.07071068],\n",
              "       ...,\n",
              "       [-1.47066444, -0.90145246,  1.70261919, ...,  1.0884772 ,\n",
              "        -0.21650635, -0.07071068],\n",
              "       [-1.47066444, -0.90145246,  1.70261919, ..., -0.9187147 ,\n",
              "        -0.21650635, -0.07071068],\n",
              "       [-1.47066444, -0.90145246,  1.70261919, ...,  1.0884772 ,\n",
              "        -0.21650635, -0.07071068]])"
            ]
          },
          "metadata": {
            "tags": []
          },
          "execution_count": 24
        }
      ]
    },
    {
      "cell_type": "code",
      "metadata": {
        "id": "NxhZu8iCYKzf",
        "colab_type": "code",
        "colab": {}
      },
      "source": [
        "from sklearn.model_selection import train_test_split\n",
        "X_train,X_test,y_train,y_test=train_test_split(x6,y5,test_size=0.25,random_state=360)"
      ],
      "execution_count": null,
      "outputs": []
    },
    {
      "cell_type": "code",
      "metadata": {
        "id": "hmQbi32RYxG6",
        "colab_type": "code",
        "colab": {}
      },
      "source": [
        "import statsmodels.api as sm\n",
        "x7=sm.add_constant(x6)\n",
        "model2=sm.OLS(y5,x7).fit()"
      ],
      "execution_count": null,
      "outputs": []
    },
    {
      "cell_type": "code",
      "metadata": {
        "id": "NqoCxGbxY2lq",
        "colab_type": "code",
        "colab": {
          "base_uri": "https://localhost:8080/",
          "height": 1000
        },
        "outputId": "c3d5444d-6fae-43af-9141-f4215bf8d4d7"
      },
      "source": [
        "model2.summary()"
      ],
      "execution_count": null,
      "outputs": [
        {
          "output_type": "execute_result",
          "data": {
            "text/html": [
              "<table class=\"simpletable\">\n",
              "<caption>OLS Regression Results</caption>\n",
              "<tr>\n",
              "  <th>Dep. Variable:</th>          <td>price</td>      <th>  R-squared:         </th> <td>   0.966</td>\n",
              "</tr>\n",
              "<tr>\n",
              "  <th>Model:</th>                   <td>OLS</td>       <th>  Adj. R-squared:    </th> <td>   0.952</td>\n",
              "</tr>\n",
              "<tr>\n",
              "  <th>Method:</th>             <td>Least Squares</td>  <th>  F-statistic:       </th> <td>   71.32</td>\n",
              "</tr>\n",
              "<tr>\n",
              "  <th>Date:</th>             <td>Sat, 12 Sep 2020</td> <th>  Prob (F-statistic):</th> <td>8.54e-82</td>\n",
              "</tr>\n",
              "<tr>\n",
              "  <th>Time:</th>                 <td>13:16:17</td>     <th>  Log-Likelihood:    </th> <td> -1749.9</td>\n",
              "</tr>\n",
              "<tr>\n",
              "  <th>No. Observations:</th>      <td>   201</td>      <th>  AIC:               </th> <td>   3616.</td>\n",
              "</tr>\n",
              "<tr>\n",
              "  <th>Df Residuals:</th>          <td>   143</td>      <th>  BIC:               </th> <td>   3807.</td>\n",
              "</tr>\n",
              "<tr>\n",
              "  <th>Df Model:</th>              <td>    57</td>      <th>                     </th>     <td> </td>   \n",
              "</tr>\n",
              "<tr>\n",
              "  <th>Covariance Type:</th>      <td>nonrobust</td>    <th>                     </th>     <td> </td>   \n",
              "</tr>\n",
              "</table>\n",
              "<table class=\"simpletable\">\n",
              "<tr>\n",
              "               <td></td>                 <th>coef</th>     <th>std err</th>      <th>t</th>      <th>P>|t|</th>  <th>[0.025</th>    <th>0.975]</th>  \n",
              "</tr>\n",
              "<tr>\n",
              "  <th>const</th>                      <td>-5350.9287</td> <td>  1.1e+04</td> <td>   -0.489</td> <td> 0.626</td> <td> -2.7e+04</td> <td> 1.63e+04</td>\n",
              "</tr>\n",
              "<tr>\n",
              "  <th>symboling</th>                  <td> -429.6186</td> <td>  258.721</td> <td>   -1.661</td> <td> 0.099</td> <td> -941.031</td> <td>   81.793</td>\n",
              "</tr>\n",
              "<tr>\n",
              "  <th>normalized_losses</th>          <td>  -10.8691</td> <td>    8.159</td> <td>   -1.332</td> <td> 0.185</td> <td>  -26.996</td> <td>    5.258</td>\n",
              "</tr>\n",
              "<tr>\n",
              "  <th>wheel_base</th>                 <td>  220.4968</td> <td>   89.631</td> <td>    2.460</td> <td> 0.015</td> <td>   43.324</td> <td>  397.670</td>\n",
              "</tr>\n",
              "<tr>\n",
              "  <th>length</th>                     <td> -137.3471</td> <td>   46.755</td> <td>   -2.938</td> <td> 0.004</td> <td> -229.767</td> <td>  -44.927</td>\n",
              "</tr>\n",
              "<tr>\n",
              "  <th>width</th>                      <td>  594.9028</td> <td>  223.538</td> <td>    2.661</td> <td> 0.009</td> <td>  153.036</td> <td> 1036.769</td>\n",
              "</tr>\n",
              "<tr>\n",
              "  <th>height</th>                     <td> -417.9248</td> <td>  136.898</td> <td>   -3.053</td> <td> 0.003</td> <td> -688.531</td> <td> -147.319</td>\n",
              "</tr>\n",
              "<tr>\n",
              "  <th>curb_weight</th>                <td>    6.9526</td> <td>    1.509</td> <td>    4.607</td> <td> 0.000</td> <td>    3.970</td> <td>    9.936</td>\n",
              "</tr>\n",
              "<tr>\n",
              "  <th>engine_size</th>                <td>   89.5826</td> <td>   25.033</td> <td>    3.579</td> <td> 0.000</td> <td>   40.100</td> <td>  139.065</td>\n",
              "</tr>\n",
              "<tr>\n",
              "  <th>bore</th>                       <td>-3102.3937</td> <td> 1827.199</td> <td>   -1.698</td> <td> 0.092</td> <td>-6714.205</td> <td>  509.417</td>\n",
              "</tr>\n",
              "<tr>\n",
              "  <th>stroke</th>                     <td>-1453.8973</td> <td>  978.837</td> <td>   -1.485</td> <td> 0.140</td> <td>-3388.756</td> <td>  480.962</td>\n",
              "</tr>\n",
              "<tr>\n",
              "  <th>compression_ratio</th>          <td>-1008.2107</td> <td>  483.444</td> <td>   -2.085</td> <td> 0.039</td> <td>-1963.830</td> <td>  -52.591</td>\n",
              "</tr>\n",
              "<tr>\n",
              "  <th>horsepower</th>                 <td>   -4.0147</td> <td>   24.317</td> <td>   -0.165</td> <td> 0.869</td> <td>  -52.081</td> <td>   44.052</td>\n",
              "</tr>\n",
              "<tr>\n",
              "  <th>peak_rpm</th>                   <td>    2.4389</td> <td>    0.647</td> <td>    3.772</td> <td> 0.000</td> <td>    1.161</td> <td>    3.717</td>\n",
              "</tr>\n",
              "<tr>\n",
              "  <th>city_mpg</th>                   <td>   -8.3761</td> <td>  131.593</td> <td>   -0.064</td> <td> 0.949</td> <td> -268.495</td> <td>  251.743</td>\n",
              "</tr>\n",
              "<tr>\n",
              "  <th>highway_mpg</th>                <td>  118.0065</td> <td>  113.110</td> <td>    1.043</td> <td> 0.299</td> <td> -105.577</td> <td>  341.590</td>\n",
              "</tr>\n",
              "<tr>\n",
              "  <th>make_audi</th>                  <td> 2201.0787</td> <td> 2424.964</td> <td>    0.908</td> <td> 0.366</td> <td>-2592.329</td> <td> 6994.487</td>\n",
              "</tr>\n",
              "<tr>\n",
              "  <th>make_bmw</th>                   <td> 5422.6725</td> <td> 2328.969</td> <td>    2.328</td> <td> 0.021</td> <td>  819.017</td> <td>    1e+04</td>\n",
              "</tr>\n",
              "<tr>\n",
              "  <th>make_chevrolet</th>             <td>-5996.6141</td> <td> 2226.747</td> <td>   -2.693</td> <td> 0.008</td> <td>-1.04e+04</td> <td>-1595.021</td>\n",
              "</tr>\n",
              "<tr>\n",
              "  <th>make_dodge</th>                 <td>-6330.2420</td> <td> 1808.700</td> <td>   -3.500</td> <td> 0.001</td> <td>-9905.485</td> <td>-2754.999</td>\n",
              "</tr>\n",
              "<tr>\n",
              "  <th>make_honda</th>                 <td>-3145.6198</td> <td> 2113.066</td> <td>   -1.489</td> <td> 0.139</td> <td>-7322.501</td> <td> 1031.261</td>\n",
              "</tr>\n",
              "<tr>\n",
              "  <th>make_isuzu</th>                 <td>-5251.7544</td> <td> 2395.802</td> <td>   -2.192</td> <td> 0.030</td> <td>-9987.517</td> <td> -515.992</td>\n",
              "</tr>\n",
              "<tr>\n",
              "  <th>make_jaguar</th>                <td>-2641.5031</td> <td> 2666.057</td> <td>   -0.991</td> <td> 0.323</td> <td>-7911.478</td> <td> 2628.471</td>\n",
              "</tr>\n",
              "<tr>\n",
              "  <th>make_mazda</th>                 <td>-3014.0752</td> <td> 1663.022</td> <td>   -1.812</td> <td> 0.072</td> <td>-6301.357</td> <td>  273.207</td>\n",
              "</tr>\n",
              "<tr>\n",
              "  <th>make_mercedes-benz</th>         <td>  923.9192</td> <td> 2442.948</td> <td>    0.378</td> <td> 0.706</td> <td>-3905.036</td> <td> 5752.875</td>\n",
              "</tr>\n",
              "<tr>\n",
              "  <th>make_mercury</th>               <td>-4515.4545</td> <td> 2921.781</td> <td>   -1.545</td> <td> 0.124</td> <td>-1.03e+04</td> <td> 1260.007</td>\n",
              "</tr>\n",
              "<tr>\n",
              "  <th>make_mitsubishi</th>            <td>-6341.5171</td> <td> 1830.214</td> <td>   -3.465</td> <td> 0.001</td> <td>-9959.286</td> <td>-2723.748</td>\n",
              "</tr>\n",
              "<tr>\n",
              "  <th>make_nissan</th>                <td>-3216.0571</td> <td> 1667.789</td> <td>   -1.928</td> <td> 0.056</td> <td>-6512.763</td> <td>   80.649</td>\n",
              "</tr>\n",
              "<tr>\n",
              "  <th>make_peugot</th>                <td>-4585.4524</td> <td> 1808.567</td> <td>   -2.535</td> <td> 0.012</td> <td>-8160.433</td> <td>-1010.472</td>\n",
              "</tr>\n",
              "<tr>\n",
              "  <th>make_plymouth</th>              <td>-6291.7907</td> <td> 1796.667</td> <td>   -3.502</td> <td> 0.001</td> <td>-9843.247</td> <td>-2740.334</td>\n",
              "</tr>\n",
              "<tr>\n",
              "  <th>make_porsche</th>               <td> 2881.3504</td> <td> 2921.903</td> <td>    0.986</td> <td> 0.326</td> <td>-2894.352</td> <td> 8657.053</td>\n",
              "</tr>\n",
              "<tr>\n",
              "  <th>make_renault</th>               <td>-5153.4263</td> <td> 2301.167</td> <td>   -2.239</td> <td> 0.027</td> <td>-9702.126</td> <td> -604.727</td>\n",
              "</tr>\n",
              "<tr>\n",
              "  <th>make_saab</th>                  <td> 1557.8012</td> <td> 2086.582</td> <td>    0.747</td> <td> 0.457</td> <td>-2566.730</td> <td> 5682.333</td>\n",
              "</tr>\n",
              "<tr>\n",
              "  <th>make_subaru</th>                <td>-5585.1031</td> <td> 1529.846</td> <td>   -3.651</td> <td> 0.000</td> <td>-8609.138</td> <td>-2561.068</td>\n",
              "</tr>\n",
              "<tr>\n",
              "  <th>make_toyota</th>                <td>-4557.5811</td> <td> 1501.051</td> <td>   -3.036</td> <td> 0.003</td> <td>-7524.697</td> <td>-1590.466</td>\n",
              "</tr>\n",
              "<tr>\n",
              "  <th>make_volkswagen</th>            <td>-1756.7909</td> <td> 1838.354</td> <td>   -0.956</td> <td> 0.341</td> <td>-5390.651</td> <td> 1877.069</td>\n",
              "</tr>\n",
              "<tr>\n",
              "  <th>make_volvo</th>                 <td>-3526.9800</td> <td> 2133.973</td> <td>   -1.653</td> <td> 0.101</td> <td>-7745.188</td> <td>  691.228</td>\n",
              "</tr>\n",
              "<tr>\n",
              "  <th>fuel_type_gas</th>              <td>-1.016e+04</td> <td> 5540.450</td> <td>   -1.833</td> <td> 0.069</td> <td>-2.11e+04</td> <td>  796.212</td>\n",
              "</tr>\n",
              "<tr>\n",
              "  <th>aspiration_turbo</th>           <td> 1895.6737</td> <td>  804.626</td> <td>    2.356</td> <td> 0.020</td> <td>  305.176</td> <td> 3486.172</td>\n",
              "</tr>\n",
              "<tr>\n",
              "  <th>number_of_doors_two</th>        <td> -211.7726</td> <td>  447.395</td> <td>   -0.473</td> <td> 0.637</td> <td>-1096.136</td> <td>  672.590</td>\n",
              "</tr>\n",
              "<tr>\n",
              "  <th>body_style_Premium</th>         <td> 1491.8258</td> <td>  761.031</td> <td>    1.960</td> <td> 0.052</td> <td>  -12.498</td> <td> 2996.150</td>\n",
              "</tr>\n",
              "<tr>\n",
              "  <th>drive_wheels_fwd</th>           <td> -525.5176</td> <td>  897.715</td> <td>   -0.585</td> <td> 0.559</td> <td>-2300.024</td> <td> 1248.989</td>\n",
              "</tr>\n",
              "<tr>\n",
              "  <th>drive_wheels_rwd</th>           <td>  542.8914</td> <td> 1225.291</td> <td>    0.443</td> <td> 0.658</td> <td>-1879.131</td> <td> 2964.914</td>\n",
              "</tr>\n",
              "<tr>\n",
              "  <th>engine_location_rear</th>       <td> 7575.7453</td> <td> 1908.382</td> <td>    3.970</td> <td> 0.000</td> <td> 3803.461</td> <td> 1.13e+04</td>\n",
              "</tr>\n",
              "<tr>\n",
              "  <th>engine_type_l</th>              <td>-1248.8324</td> <td> 1552.455</td> <td>   -0.804</td> <td> 0.422</td> <td>-4317.558</td> <td> 1819.893</td>\n",
              "</tr>\n",
              "<tr>\n",
              "  <th>engine_type_ohc</th>            <td>  528.9969</td> <td> 1204.378</td> <td>    0.439</td> <td> 0.661</td> <td>-1851.687</td> <td> 2909.681</td>\n",
              "</tr>\n",
              "<tr>\n",
              "  <th>engine_type_ohcf</th>           <td> 1990.6422</td> <td> 1051.514</td> <td>    1.893</td> <td> 0.060</td> <td>  -87.877</td> <td> 4069.162</td>\n",
              "</tr>\n",
              "<tr>\n",
              "  <th>engine_type_ohcv</th>           <td>-3139.4885</td> <td> 1200.961</td> <td>   -2.614</td> <td> 0.010</td> <td>-5513.418</td> <td> -765.559</td>\n",
              "</tr>\n",
              "<tr>\n",
              "  <th>engine_type_rotor</th>          <td> 1260.1809</td> <td> 2209.375</td> <td>    0.570</td> <td> 0.569</td> <td>-3107.074</td> <td> 5627.436</td>\n",
              "</tr>\n",
              "<tr>\n",
              "  <th>number_of_cylinders_five</th>   <td>-7289.7939</td> <td> 2764.199</td> <td>   -2.637</td> <td> 0.009</td> <td>-1.28e+04</td> <td>-1825.823</td>\n",
              "</tr>\n",
              "<tr>\n",
              "  <th>number_of_cylinders_four</th>   <td>-4180.2531</td> <td> 3449.938</td> <td>   -1.212</td> <td> 0.228</td> <td> -1.1e+04</td> <td> 2639.212</td>\n",
              "</tr>\n",
              "<tr>\n",
              "  <th>number_of_cylinders_six</th>    <td>-4405.3352</td> <td> 2641.457</td> <td>   -1.668</td> <td> 0.098</td> <td>-9626.683</td> <td>  816.012</td>\n",
              "</tr>\n",
              "<tr>\n",
              "  <th>number_of_cylinders_three</th>  <td> 3336.6201</td> <td> 2745.839</td> <td>    1.215</td> <td> 0.226</td> <td>-2091.058</td> <td> 8764.298</td>\n",
              "</tr>\n",
              "<tr>\n",
              "  <th>number_of_cylinders_twelve</th> <td>-4692.8169</td> <td> 5068.266</td> <td>   -0.926</td> <td> 0.356</td> <td>-1.47e+04</td> <td> 5325.586</td>\n",
              "</tr>\n",
              "<tr>\n",
              "  <th>number_of_cylinders_two</th>    <td> 1260.1809</td> <td> 2209.375</td> <td>    0.570</td> <td> 0.569</td> <td>-3107.074</td> <td> 5627.436</td>\n",
              "</tr>\n",
              "<tr>\n",
              "  <th>fuel_system_2bbl</th>           <td> 2821.6426</td> <td> 1449.531</td> <td>    1.947</td> <td> 0.054</td> <td>  -43.634</td> <td> 5686.919</td>\n",
              "</tr>\n",
              "<tr>\n",
              "  <th>fuel_system_4bbl</th>           <td> -311.9917</td> <td> 2516.508</td> <td>   -0.124</td> <td> 0.902</td> <td>-5286.353</td> <td> 4662.370</td>\n",
              "</tr>\n",
              "<tr>\n",
              "  <th>fuel_system_idi</th>            <td> 4804.6227</td> <td> 7127.373</td> <td>    0.674</td> <td> 0.501</td> <td>-9284.001</td> <td> 1.89e+04</td>\n",
              "</tr>\n",
              "<tr>\n",
              "  <th>fuel_system_mfi</th>            <td>  431.3576</td> <td> 2609.694</td> <td>    0.165</td> <td> 0.869</td> <td>-4727.204</td> <td> 5589.919</td>\n",
              "</tr>\n",
              "<tr>\n",
              "  <th>fuel_system_mpfi</th>           <td> 1597.5790</td> <td> 1524.879</td> <td>    1.048</td> <td> 0.297</td> <td>-1416.637</td> <td> 4611.795</td>\n",
              "</tr>\n",
              "<tr>\n",
              "  <th>fuel_system_spdi</th>           <td>  464.4591</td> <td> 1803.552</td> <td>    0.258</td> <td> 0.797</td> <td>-3100.608</td> <td> 4029.526</td>\n",
              "</tr>\n",
              "<tr>\n",
              "  <th>fuel_system_spfi</th>           <td> 2303.0352</td> <td> 3036.857</td> <td>    0.758</td> <td> 0.449</td> <td>-3699.895</td> <td> 8305.966</td>\n",
              "</tr>\n",
              "</table>\n",
              "<table class=\"simpletable\">\n",
              "<tr>\n",
              "  <th>Omnibus:</th>       <td>43.610</td> <th>  Durbin-Watson:     </th> <td>   1.665</td>\n",
              "</tr>\n",
              "<tr>\n",
              "  <th>Prob(Omnibus):</th> <td> 0.000</td> <th>  Jarque-Bera (JB):  </th> <td> 140.395</td>\n",
              "</tr>\n",
              "<tr>\n",
              "  <th>Skew:</th>          <td> 0.847</td> <th>  Prob(JB):          </th> <td>3.26e-31</td>\n",
              "</tr>\n",
              "<tr>\n",
              "  <th>Kurtosis:</th>      <td> 6.727</td> <th>  Cond. No.          </th> <td>1.00e+16</td>\n",
              "</tr>\n",
              "</table><br/><br/>Warnings:<br/>[1] Standard Errors assume that the covariance matrix of the errors is correctly specified.<br/>[2] The smallest eigenvalue is 6.59e-23. This might indicate that there are<br/>strong multicollinearity problems or that the design matrix is singular."
            ],
            "text/plain": [
              "<class 'statsmodels.iolib.summary.Summary'>\n",
              "\"\"\"\n",
              "                            OLS Regression Results                            \n",
              "==============================================================================\n",
              "Dep. Variable:                  price   R-squared:                       0.966\n",
              "Model:                            OLS   Adj. R-squared:                  0.952\n",
              "Method:                 Least Squares   F-statistic:                     71.32\n",
              "Date:                Sat, 12 Sep 2020   Prob (F-statistic):           8.54e-82\n",
              "Time:                        13:16:17   Log-Likelihood:                -1749.9\n",
              "No. Observations:                 201   AIC:                             3616.\n",
              "Df Residuals:                     143   BIC:                             3807.\n",
              "Df Model:                          57                                         \n",
              "Covariance Type:            nonrobust                                         \n",
              "==============================================================================================\n",
              "                                 coef    std err          t      P>|t|      [0.025      0.975]\n",
              "----------------------------------------------------------------------------------------------\n",
              "const                      -5350.9287    1.1e+04     -0.489      0.626    -2.7e+04    1.63e+04\n",
              "symboling                   -429.6186    258.721     -1.661      0.099    -941.031      81.793\n",
              "normalized_losses            -10.8691      8.159     -1.332      0.185     -26.996       5.258\n",
              "wheel_base                   220.4968     89.631      2.460      0.015      43.324     397.670\n",
              "length                      -137.3471     46.755     -2.938      0.004    -229.767     -44.927\n",
              "width                        594.9028    223.538      2.661      0.009     153.036    1036.769\n",
              "height                      -417.9248    136.898     -3.053      0.003    -688.531    -147.319\n",
              "curb_weight                    6.9526      1.509      4.607      0.000       3.970       9.936\n",
              "engine_size                   89.5826     25.033      3.579      0.000      40.100     139.065\n",
              "bore                       -3102.3937   1827.199     -1.698      0.092   -6714.205     509.417\n",
              "stroke                     -1453.8973    978.837     -1.485      0.140   -3388.756     480.962\n",
              "compression_ratio          -1008.2107    483.444     -2.085      0.039   -1963.830     -52.591\n",
              "horsepower                    -4.0147     24.317     -0.165      0.869     -52.081      44.052\n",
              "peak_rpm                       2.4389      0.647      3.772      0.000       1.161       3.717\n",
              "city_mpg                      -8.3761    131.593     -0.064      0.949    -268.495     251.743\n",
              "highway_mpg                  118.0065    113.110      1.043      0.299    -105.577     341.590\n",
              "make_audi                   2201.0787   2424.964      0.908      0.366   -2592.329    6994.487\n",
              "make_bmw                    5422.6725   2328.969      2.328      0.021     819.017       1e+04\n",
              "make_chevrolet             -5996.6141   2226.747     -2.693      0.008   -1.04e+04   -1595.021\n",
              "make_dodge                 -6330.2420   1808.700     -3.500      0.001   -9905.485   -2754.999\n",
              "make_honda                 -3145.6198   2113.066     -1.489      0.139   -7322.501    1031.261\n",
              "make_isuzu                 -5251.7544   2395.802     -2.192      0.030   -9987.517    -515.992\n",
              "make_jaguar                -2641.5031   2666.057     -0.991      0.323   -7911.478    2628.471\n",
              "make_mazda                 -3014.0752   1663.022     -1.812      0.072   -6301.357     273.207\n",
              "make_mercedes-benz           923.9192   2442.948      0.378      0.706   -3905.036    5752.875\n",
              "make_mercury               -4515.4545   2921.781     -1.545      0.124   -1.03e+04    1260.007\n",
              "make_mitsubishi            -6341.5171   1830.214     -3.465      0.001   -9959.286   -2723.748\n",
              "make_nissan                -3216.0571   1667.789     -1.928      0.056   -6512.763      80.649\n",
              "make_peugot                -4585.4524   1808.567     -2.535      0.012   -8160.433   -1010.472\n",
              "make_plymouth              -6291.7907   1796.667     -3.502      0.001   -9843.247   -2740.334\n",
              "make_porsche                2881.3504   2921.903      0.986      0.326   -2894.352    8657.053\n",
              "make_renault               -5153.4263   2301.167     -2.239      0.027   -9702.126    -604.727\n",
              "make_saab                   1557.8012   2086.582      0.747      0.457   -2566.730    5682.333\n",
              "make_subaru                -5585.1031   1529.846     -3.651      0.000   -8609.138   -2561.068\n",
              "make_toyota                -4557.5811   1501.051     -3.036      0.003   -7524.697   -1590.466\n",
              "make_volkswagen            -1756.7909   1838.354     -0.956      0.341   -5390.651    1877.069\n",
              "make_volvo                 -3526.9800   2133.973     -1.653      0.101   -7745.188     691.228\n",
              "fuel_type_gas              -1.016e+04   5540.450     -1.833      0.069   -2.11e+04     796.212\n",
              "aspiration_turbo            1895.6737    804.626      2.356      0.020     305.176    3486.172\n",
              "number_of_doors_two         -211.7726    447.395     -0.473      0.637   -1096.136     672.590\n",
              "body_style_Premium          1491.8258    761.031      1.960      0.052     -12.498    2996.150\n",
              "drive_wheels_fwd            -525.5176    897.715     -0.585      0.559   -2300.024    1248.989\n",
              "drive_wheels_rwd             542.8914   1225.291      0.443      0.658   -1879.131    2964.914\n",
              "engine_location_rear        7575.7453   1908.382      3.970      0.000    3803.461    1.13e+04\n",
              "engine_type_l              -1248.8324   1552.455     -0.804      0.422   -4317.558    1819.893\n",
              "engine_type_ohc              528.9969   1204.378      0.439      0.661   -1851.687    2909.681\n",
              "engine_type_ohcf            1990.6422   1051.514      1.893      0.060     -87.877    4069.162\n",
              "engine_type_ohcv           -3139.4885   1200.961     -2.614      0.010   -5513.418    -765.559\n",
              "engine_type_rotor           1260.1809   2209.375      0.570      0.569   -3107.074    5627.436\n",
              "number_of_cylinders_five   -7289.7939   2764.199     -2.637      0.009   -1.28e+04   -1825.823\n",
              "number_of_cylinders_four   -4180.2531   3449.938     -1.212      0.228    -1.1e+04    2639.212\n",
              "number_of_cylinders_six    -4405.3352   2641.457     -1.668      0.098   -9626.683     816.012\n",
              "number_of_cylinders_three   3336.6201   2745.839      1.215      0.226   -2091.058    8764.298\n",
              "number_of_cylinders_twelve -4692.8169   5068.266     -0.926      0.356   -1.47e+04    5325.586\n",
              "number_of_cylinders_two     1260.1809   2209.375      0.570      0.569   -3107.074    5627.436\n",
              "fuel_system_2bbl            2821.6426   1449.531      1.947      0.054     -43.634    5686.919\n",
              "fuel_system_4bbl            -311.9917   2516.508     -0.124      0.902   -5286.353    4662.370\n",
              "fuel_system_idi             4804.6227   7127.373      0.674      0.501   -9284.001    1.89e+04\n",
              "fuel_system_mfi              431.3576   2609.694      0.165      0.869   -4727.204    5589.919\n",
              "fuel_system_mpfi            1597.5790   1524.879      1.048      0.297   -1416.637    4611.795\n",
              "fuel_system_spdi             464.4591   1803.552      0.258      0.797   -3100.608    4029.526\n",
              "fuel_system_spfi            2303.0352   3036.857      0.758      0.449   -3699.895    8305.966\n",
              "==============================================================================\n",
              "Omnibus:                       43.610   Durbin-Watson:                   1.665\n",
              "Prob(Omnibus):                  0.000   Jarque-Bera (JB):              140.395\n",
              "Skew:                           0.847   Prob(JB):                     3.26e-31\n",
              "Kurtosis:                       6.727   Cond. No.                     1.00e+16\n",
              "==============================================================================\n",
              "\n",
              "Warnings:\n",
              "[1] Standard Errors assume that the covariance matrix of the errors is correctly specified.\n",
              "[2] The smallest eigenvalue is 6.59e-23. This might indicate that there are\n",
              "strong multicollinearity problems or that the design matrix is singular.\n",
              "\"\"\""
            ]
          },
          "metadata": {
            "tags": []
          },
          "execution_count": 35
        }
      ]
    },
    {
      "cell_type": "markdown",
      "metadata": {
        "id": "YyjgtW2ngtQN",
        "colab_type": "text"
      },
      "source": [
        "\n",
        "\n",
        "---\n",
        "K- MEANS CLUSTERING \n",
        "\n",
        "\n"
      ]
    },
    {
      "cell_type": "markdown",
      "metadata": {
        "id": "fc8mL22gfUB1",
        "colab_type": "text"
      },
      "source": [
        "K - Means Clustering for Horsepower vs Price"
      ]
    },
    {
      "cell_type": "code",
      "metadata": {
        "id": "T6tOKlJbhaoj",
        "colab_type": "code",
        "colab": {}
      },
      "source": [
        "## Extracting the columns\n",
        "\n",
        "Z=df.iloc[:,[21,25]].values  # Horsepower vs Price"
      ],
      "execution_count": null,
      "outputs": []
    },
    {
      "cell_type": "code",
      "metadata": {
        "id": "qPzMpKqQdX3g",
        "colab_type": "code",
        "colab": {
          "base_uri": "https://localhost:8080/",
          "height": 295
        },
        "outputId": "3785b6ba-58e2-4eeb-e1b5-f6789534fcd2"
      },
      "source": [
        "## Finding the optimal number of clusters\n",
        "\n",
        "from sklearn.cluster import KMeans\n",
        "# Determinng number of cluster to be formed \n",
        "wcss=[]\n",
        "for i in range(1,11):\n",
        "    Kmeans=KMeans(n_clusters=i,\n",
        "    init='k-means++',\n",
        "    n_init=10,\n",
        "    max_iter=300,random_state=0)\n",
        "    Kmeans.fit(Z)\n",
        "    wcss.append(Kmeans.inertia_)\n",
        "plt.plot(range(1,11),wcss,'*-')\n",
        "plt.title(\"The elbow method\")\n",
        "plt.xlabel('No of clusters')\n",
        "plt.ylabel('WCSS')\n",
        "plt.show()"
      ],
      "execution_count": null,
      "outputs": [
        {
          "output_type": "display_data",
          "data": {
            "image/png": "[encoded data removed]",
            "text/plain": [
              "<Figure size 432x288 with 1 Axes>"
            ]
          },
          "metadata": {
            "tags": [],
            "needs_background": "light"
          }
        }
      ]
    },
    {
      "cell_type": "code",
      "metadata": {
        "id": "liN53NX8hxdI",
        "colab_type": "code",
        "colab": {
          "base_uri": "https://localhost:8080/",
          "height": 282
        },
        "outputId": "2b8db269-442a-47d4-e3b7-e795a5657793"
      },
      "source": [
        "# Running th K-means algorithm\n",
        "\n",
        "Kmeans=KMeans(n_clusters=3,init='k-means++',n_init=10,\n",
        "    max_iter=300,random_state=0)\n",
        "y_kmeans=Kmeans.fit_predict(Z)\n",
        "\n",
        "plt.scatter(Z[y_kmeans==0,0],Z[y_kmeans==0,1],s=100,c='green',label='cluster 1')\n",
        "plt.scatter(Z[y_kmeans==1,0],Z[y_kmeans==1,1],s=100,c='yellow',label='cluster 2')\n",
        "plt.scatter(Z[y_kmeans==2,0],Z[y_kmeans==2,1],s=100,c='blue',label='cluster 3')\n",
        "\n",
        "# Clearly, as the price increases, the horsepower also rise. K-means gives us 3 clusters according to varying prices and horsepower."
      ],
      "execution_count": null,
      "outputs": [
        {
          "output_type": "execute_result",
          "data": {
            "text/plain": [
              "<matplotlib.collections.PathCollection at 0x7ff79eaa3b38>"
            ]
          },
          "metadata": {
            "tags": []
          },
          "execution_count": 55
        },
        {
          "output_type": "display_data",
          "data": {
            "image/png": "[encoded data removed]",
            "text/plain": [
              "<Figure size 432x288 with 1 Axes>"
            ]
          },
          "metadata": {
            "tags": [],
            "needs_background": "light"
          }
        }
      ]
    },
    {
      "cell_type": "markdown",
      "metadata": {
        "id": "nX6vdn3Ve-o4",
        "colab_type": "text"
      },
      "source": [
        "K - Means Clustering for Highway Mileage vs Price"
      ]
    },
    {
      "cell_type": "code",
      "metadata": {
        "id": "RKNxnjxMWw93",
        "colab_type": "code",
        "colab": {
          "base_uri": "https://localhost:8080/",
          "height": 164
        },
        "outputId": "863937b6-d102-4365-ed58-b273d6c958f0"
      },
      "source": [
        "Z2=df.iloc[:,[24,25]].values # Highwaympg size vs Price"
      ],
      "execution_count": null,
      "outputs": [
        {
          "output_type": "error",
          "ename": "NameError",
          "evalue": "ignored",
          "traceback": [
            "\u001b[0;31m---------------------------------------------------------------------------\u001b[0m",
            "\u001b[0;31mNameError\u001b[0m                                 Traceback (most recent call last)",
            "\u001b[0;32m<ipython-input-1-f0a25b30bba0>\u001b[0m in \u001b[0;36m<module>\u001b[0;34m()\u001b[0m\n\u001b[0;32m----> 1\u001b[0;31m \u001b[0mZ2\u001b[0m\u001b[0;34m=\u001b[0m\u001b[0mdf\u001b[0m\u001b[0;34m.\u001b[0m\u001b[0miloc\u001b[0m\u001b[0;34m[\u001b[0m\u001b[0;34m:\u001b[0m\u001b[0;34m,\u001b[0m\u001b[0;34m[\u001b[0m\u001b[0;36m24\u001b[0m\u001b[0;34m,\u001b[0m\u001b[0;36m25\u001b[0m\u001b[0;34m]\u001b[0m\u001b[0;34m]\u001b[0m\u001b[0;34m.\u001b[0m\u001b[0mvalues\u001b[0m\u001b[0;34m\u001b[0m\u001b[0;34m\u001b[0m\u001b[0m\n\u001b[0m",
            "\u001b[0;31mNameError\u001b[0m: name 'df' is not defined"
          ]
        }
      ]
    },
    {
      "cell_type": "code",
      "metadata": {
        "id": "FOVPX90mW3H0",
        "colab_type": "code",
        "colab": {}
      },
      "source": [
        "from sklearn.cluster import KMeans\n",
        "# determinng number of cluster to be formed \n",
        "wcss=[]\n",
        "for i in range(1,11):\n",
        "    Kmeans=KMeans(n_clusters=i,\n",
        "    init='k-means++',\n",
        "    n_init=10,\n",
        "    max_iter=300,random_state=0)\n",
        "    Kmeans.fit(Z2)\n",
        "    wcss.append(Kmeans.inertia_)\n",
        "plt.plot(range(1,11),wcss,'*-')\n",
        "plt.title(\"The elbow method\")\n",
        "plt.xlabel('No of clusters')\n",
        "plt.ylabel('WCSS')\n",
        "plt.show()"
      ],
      "execution_count": null,
      "outputs": []
    },
    {
      "cell_type": "code",
      "metadata": {
        "id": "kTgXr9LYW68b",
        "colab_type": "code",
        "colab": {}
      },
      "source": [
        "Kmeans=KMeans(n_clusters=3,init='k-means++',n_init=10,\n",
        "    max_iter=300,random_state=0)\n",
        "y_kmeans=Kmeans.fit_predict(Z2)\n",
        "\n",
        "plt.scatter(Z2[y_kmeans==0,0],Z2[y_kmeans==0,1],s=100,c='green',label='cluster 1')\n",
        "plt.scatter(Z2[y_kmeans==1,0],Z2[y_kmeans==1,1],s=100,c='yellow',label='cluster 2')\n",
        "plt.scatter(Z2[y_kmeans==2,0],Z2[y_kmeans==2,1],s=100,c='blue',label='cluster 3')\n",
        "\n",
        "# Clearly, as the price increases, the highway mileage  falls. K-means gives us 3 clusters according to varying prices and highway mileage."
      ],
      "execution_count": null,
      "outputs": []
    },
    {
      "cell_type": "markdown",
      "metadata": {
        "id": "00KVHRPjdC0A",
        "colab_type": "text"
      },
      "source": [
        "K - Means Clustering for City Mileage vs Price"
      ]
    },
    {
      "cell_type": "code",
      "metadata": {
        "id": "I0KUEiWJXIQn",
        "colab_type": "code",
        "colab": {}
      },
      "source": [
        "Z3=df.iloc[:,[23,25]].values # Citympg size vs Price"
      ],
      "execution_count": null,
      "outputs": []
    },
    {
      "cell_type": "code",
      "metadata": {
        "id": "sLiFSo4vXPEY",
        "colab_type": "code",
        "colab": {}
      },
      "source": [
        "from sklearn.cluster import KMeans\n",
        "# determinng number of cluster to be formed \n",
        "wcss=[]\n",
        "for i in range(1,11):\n",
        "    Kmeans=KMeans(n_clusters=i,\n",
        "    init='k-means++',\n",
        "    n_init=10,\n",
        "    max_iter=300,random_state=0)\n",
        "    Kmeans.fit(Z3)\n",
        "    wcss.append(Kmeans.inertia_)\n",
        "plt.plot(range(1,11),wcss,'*-')\n",
        "plt.title(\"The elbow method\")\n",
        "plt.xlabel('No of clusters')\n",
        "plt.ylabel('WCSS')\n",
        "plt.show()"
      ],
      "execution_count": null,
      "outputs": []
    },
    {
      "cell_type": "code",
      "metadata": {
        "id": "ReZH1Je0XU9b",
        "colab_type": "code",
        "colab": {}
      },
      "source": [
        "Kmeans=KMeans(n_clusters=3,init='k-means++',n_init=10,\n",
        "    max_iter=300,random_state=0)\n",
        "y_kmeans=Kmeans.fit_predict(Z3)\n",
        "\n",
        "plt.scatter(Z3[y_kmeans==0,0],Z3[y_kmeans==0,1],s=100,c='green',label='cluster 1')\n",
        "plt.scatter(Z3[y_kmeans==1,0],Z3[y_kmeans==1,1],s=100,c='yellow',label='cluster 2')\n",
        "plt.scatter(Z3[y_kmeans==2,0],Z3[y_kmeans==2,1],s=100,c='blue',label='cluster 3')\n",
        "\n",
        "# Clearly, as the price increases, the city mileage falls. K-means gives us 3 clusters according to varying prices and city mileage."
      ],
      "execution_count": null,
      "outputs": []
    },
    {
      "cell_type": "markdown",
      "metadata": {
        "id": "3jaXF2uZcUvN",
        "colab_type": "text"
      },
      "source": [
        "K - Means Clustering for Engine Size vs Price"
      ]
    },
    {
      "cell_type": "code",
      "metadata": {
        "id": "6FSLcoJaXien",
        "colab_type": "code",
        "colab": {}
      },
      "source": [
        "Z4=df.iloc[:,[16,25]].values # Engine_size vs Price"
      ],
      "execution_count": null,
      "outputs": []
    },
    {
      "cell_type": "code",
      "metadata": {
        "id": "wfH0nMP_Xo28",
        "colab_type": "code",
        "colab": {}
      },
      "source": [
        "from sklearn.cluster import KMeans\n",
        "# determinng number of cluster to be formed \n",
        "wcss=[]\n",
        "for i in range(1,11):\n",
        "    Kmeans=KMeans(n_clusters=i,\n",
        "    init='k-means++',\n",
        "    n_init=10,\n",
        "    max_iter=300,random_state=0)\n",
        "    Kmeans.fit(Z4)\n",
        "    wcss.append(Kmeans.inertia_)\n",
        "plt.plot(range(1,11),wcss,'*-')\n",
        "plt.title(\"The elbow method\")\n",
        "plt.xlabel('No of clusters')\n",
        "plt.ylabel('WCSS')\n",
        "plt.show()"
      ],
      "execution_count": null,
      "outputs": []
    },
    {
      "cell_type": "code",
      "metadata": {
        "id": "aLloCv6-Xvos",
        "colab_type": "code",
        "colab": {}
      },
      "source": [
        "Kmeans=KMeans(n_clusters=3,init='k-means++',n_init=10,\n",
        "    max_iter=300,random_state=0)\n",
        "y_kmeans=Kmeans.fit_predict(Z4)\n",
        "\n",
        "plt.scatter(Z4[y_kmeans==0,0],Z4[y_kmeans==0,1],s=100,c='green',label='cluster 1')\n",
        "plt.scatter(Z4[y_kmeans==1,0],Z4[y_kmeans==1,1],s=100,c='yellow',label='cluster 2')\n",
        "plt.scatter(Z4[y_kmeans==2,0],Z4[y_kmeans==2,1],s=100,c='blue',label='cluster 3')\n",
        "\n",
        "# Clearly, as the engine size increases, Price also increases showing a direct positive correlation. 3 Clusters are formed as per the varying prices."
      ],
      "execution_count": null,
      "outputs": []
    }
  ]
}